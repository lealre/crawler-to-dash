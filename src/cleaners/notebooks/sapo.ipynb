{
 "cells": [
  {
   "cell_type": "markdown",
   "metadata": {},
   "source": [
    "## Cleaning data extracted from Sapo"
   ]
  },
  {
   "cell_type": "code",
   "execution_count": 321,
   "metadata": {},
   "outputs": [
    {
     "data": {
      "text/html": [
       "<div>\n",
       "<style scoped>\n",
       "    .dataframe tbody tr th:only-of-type {\n",
       "        vertical-align: middle;\n",
       "    }\n",
       "\n",
       "    .dataframe tbody tr th {\n",
       "        vertical-align: top;\n",
       "    }\n",
       "\n",
       "    .dataframe thead th {\n",
       "        text-align: right;\n",
       "    }\n",
       "</style>\n",
       "<table border=\"1\" class=\"dataframe\">\n",
       "  <thead>\n",
       "    <tr style=\"text-align: right;\">\n",
       "      <th></th>\n",
       "      <th>type</th>\n",
       "      <th>location</th>\n",
       "      <th>link</th>\n",
       "      <th>price_euro</th>\n",
       "      <th>info_agg</th>\n",
       "      <th>offer_type</th>\n",
       "      <th>site</th>\n",
       "      <th>date_extracted</th>\n",
       "      <th>offer_type_search</th>\n",
       "      <th>property_type_search</th>\n",
       "      <th>location_search</th>\n",
       "      <th>sub_location_search</th>\n",
       "    </tr>\n",
       "  </thead>\n",
       "  <tbody>\n",
       "    <tr>\n",
       "      <th>21100</th>\n",
       "      <td>Apartamento T1</td>\n",
       "      <td>Centro Histórico (Cascais), Cascais e Estoril</td>\n",
       "      <td>https://gespub.casa.sapo.pt/v3/webinterface/cl...</td>\n",
       "      <td>1.600 €</td>\n",
       "      <td>Recuperado</td>\n",
       "      <td>alugar</td>\n",
       "      <td>sapo</td>\n",
       "      <td>2024-07-25T19:44:18.015810</td>\n",
       "      <td>alugar</td>\n",
       "      <td>apartamentos</td>\n",
       "      <td>distrito.lisboa</td>\n",
       "      <td></td>\n",
       "    </tr>\n",
       "    <tr>\n",
       "      <th>7087</th>\n",
       "      <td>Apartamento T2</td>\n",
       "      <td>Avenida 24 de Julho (Santos-o-Velho), Estrela,...</td>\n",
       "      <td>/comprar-apartamento-t2-lisboa-estrela-avenida...</td>\n",
       "      <td>649.000 €</td>\n",
       "      <td>Renovado  ·  115m²</td>\n",
       "      <td>comprar</td>\n",
       "      <td>sapo</td>\n",
       "      <td>2024-07-25T19:42:24.458415</td>\n",
       "      <td>comprar</td>\n",
       "      <td>apartamentos</td>\n",
       "      <td>distrito.lisboa</td>\n",
       "      <td></td>\n",
       "    </tr>\n",
       "    <tr>\n",
       "      <th>19470</th>\n",
       "      <td>Moradia T2</td>\n",
       "      <td>Alcoentre, Azambuja, Distrito de Lisboa</td>\n",
       "      <td>/comprar-moradia-t2-azambuja-alcoentre-574d88d...</td>\n",
       "      <td>80.000 €</td>\n",
       "      <td>Usado  ·  53m²</td>\n",
       "      <td>comprar</td>\n",
       "      <td>sapo</td>\n",
       "      <td>2024-07-25T19:43:50.672804</td>\n",
       "      <td>comprar</td>\n",
       "      <td>moradias</td>\n",
       "      <td>distrito.lisboa</td>\n",
       "      <td></td>\n",
       "    </tr>\n",
       "    <tr>\n",
       "      <th>12819</th>\n",
       "      <td>Apartamento T3</td>\n",
       "      <td>Damaia, Águas Livres, Amadora, Distrito de Lisboa</td>\n",
       "      <td>/comprar-apartamento-t3-amadora-aguas-livres-d...</td>\n",
       "      <td>445.000 €</td>\n",
       "      <td>Novo  ·  102m²</td>\n",
       "      <td>comprar</td>\n",
       "      <td>sapo</td>\n",
       "      <td>2024-07-25T19:42:24.458415</td>\n",
       "      <td>comprar</td>\n",
       "      <td>apartamentos</td>\n",
       "      <td>distrito.lisboa</td>\n",
       "      <td></td>\n",
       "    </tr>\n",
       "    <tr>\n",
       "      <th>13115</th>\n",
       "      <td>Apartamento</td>\n",
       "      <td>Lumiar, Lisboa, Distrito de Lisboa</td>\n",
       "      <td>/comprar-apartamento-lisboa-lumiar-5c9015b0-32...</td>\n",
       "      <td>425.000 €</td>\n",
       "      <td>Usado  ·  80m²</td>\n",
       "      <td>comprar</td>\n",
       "      <td>sapo</td>\n",
       "      <td>2024-07-25T19:42:24.458415</td>\n",
       "      <td>comprar</td>\n",
       "      <td>apartamentos</td>\n",
       "      <td>distrito.lisboa</td>\n",
       "      <td></td>\n",
       "    </tr>\n",
       "  </tbody>\n",
       "</table>\n",
       "</div>"
      ],
      "text/plain": [
       "                 type                                           location  \\\n",
       "21100  Apartamento T1      Centro Histórico (Cascais), Cascais e Estoril   \n",
       "7087   Apartamento T2  Avenida 24 de Julho (Santos-o-Velho), Estrela,...   \n",
       "19470      Moradia T2            Alcoentre, Azambuja, Distrito de Lisboa   \n",
       "12819  Apartamento T3  Damaia, Águas Livres, Amadora, Distrito de Lisboa   \n",
       "13115     Apartamento                 Lumiar, Lisboa, Distrito de Lisboa   \n",
       "\n",
       "                                                    link price_euro  \\\n",
       "21100  https://gespub.casa.sapo.pt/v3/webinterface/cl...    1.600 €   \n",
       "7087   /comprar-apartamento-t2-lisboa-estrela-avenida...  649.000 €   \n",
       "19470  /comprar-moradia-t2-azambuja-alcoentre-574d88d...   80.000 €   \n",
       "12819  /comprar-apartamento-t3-amadora-aguas-livres-d...  445.000 €   \n",
       "13115  /comprar-apartamento-lisboa-lumiar-5c9015b0-32...  425.000 €   \n",
       "\n",
       "                 info_agg offer_type  site              date_extracted  \\\n",
       "21100          Recuperado     alugar  sapo  2024-07-25T19:44:18.015810   \n",
       "7087   Renovado  ·  115m²    comprar  sapo  2024-07-25T19:42:24.458415   \n",
       "19470      Usado  ·  53m²    comprar  sapo  2024-07-25T19:43:50.672804   \n",
       "12819      Novo  ·  102m²    comprar  sapo  2024-07-25T19:42:24.458415   \n",
       "13115      Usado  ·  80m²    comprar  sapo  2024-07-25T19:42:24.458415   \n",
       "\n",
       "      offer_type_search property_type_search  location_search  \\\n",
       "21100            alugar         apartamentos  distrito.lisboa   \n",
       "7087            comprar         apartamentos  distrito.lisboa   \n",
       "19470           comprar             moradias  distrito.lisboa   \n",
       "12819           comprar         apartamentos  distrito.lisboa   \n",
       "13115           comprar         apartamentos  distrito.lisboa   \n",
       "\n",
       "      sub_location_search  \n",
       "21100                      \n",
       "7087                       \n",
       "19470                      \n",
       "12819                      \n",
       "13115                      "
      ]
     },
     "execution_count": 321,
     "metadata": {},
     "output_type": "execute_result"
    }
   ],
   "source": [
    "import pandas as pd\n",
    "import re\n",
    "\n",
    "file_path = 'data/raw/raw_sapo_2024-07-25.parquet'\n",
    "df = pd.read_parquet(file_path)\n",
    "df.sample(5)"
   ]
  },
  {
   "cell_type": "code",
   "execution_count": 322,
   "metadata": {},
   "outputs": [
    {
     "data": {
      "text/plain": [
       "np.int64(14)"
      ]
     },
     "execution_count": 322,
     "metadata": {},
     "output_type": "execute_result"
    }
   ],
   "source": [
    "df.duplicated().sum()"
   ]
  },
  {
   "cell_type": "code",
   "execution_count": 323,
   "metadata": {},
   "outputs": [
    {
     "data": {
      "text/plain": [
       "type                    0\n",
       "location                0\n",
       "link                    0\n",
       "price_euro              0\n",
       "info_agg                0\n",
       "offer_type              0\n",
       "site                    0\n",
       "date_extracted          0\n",
       "offer_type_search       0\n",
       "property_type_search    0\n",
       "location_search         0\n",
       "sub_location_search     0\n",
       "dtype: int64"
      ]
     },
     "execution_count": 323,
     "metadata": {},
     "output_type": "execute_result"
    }
   ],
   "source": [
    "df.isna().sum()"
   ]
  },
  {
   "cell_type": "code",
   "execution_count": 324,
   "metadata": {},
   "outputs": [
    {
     "name": "stdout",
     "output_type": "stream",
     "text": [
      "<class 'pandas.core.frame.DataFrame'>\n",
      "RangeIndex: 23507 entries, 0 to 23506\n",
      "Data columns (total 12 columns):\n",
      " #   Column                Non-Null Count  Dtype \n",
      "---  ------                --------------  ----- \n",
      " 0   type                  23507 non-null  object\n",
      " 1   location              23507 non-null  object\n",
      " 2   link                  23507 non-null  object\n",
      " 3   price_euro            23507 non-null  object\n",
      " 4   info_agg              23507 non-null  object\n",
      " 5   offer_type            23507 non-null  object\n",
      " 6   site                  23507 non-null  object\n",
      " 7   date_extracted        23507 non-null  object\n",
      " 8   offer_type_search     23507 non-null  object\n",
      " 9   property_type_search  23507 non-null  object\n",
      " 10  location_search       23507 non-null  object\n",
      " 11  sub_location_search   23507 non-null  object\n",
      "dtypes: object(12)\n",
      "memory usage: 2.2+ MB\n"
     ]
    }
   ],
   "source": [
    "df.info()"
   ]
  },
  {
   "cell_type": "markdown",
   "metadata": {},
   "source": [
    "## Splitting information"
   ]
  },
  {
   "cell_type": "markdown",
   "metadata": {},
   "source": [
    "### `location` \n",
    "- Each location stays in its own column."
   ]
  },
  {
   "cell_type": "code",
   "execution_count": 325,
   "metadata": {},
   "outputs": [
    {
     "data": {
      "text/plain": [
       "13094    São Bento (Santos-o-Velho), Estrela, Lisboa, D...\n",
       "4272     Santa Iria de Azoia, São João da Talha e Bobad...\n",
       "7414                   Estrela, Lisboa, Distrito de Lisboa\n",
       "16506                Cascais e Estoril, Distrito de Lisboa\n",
       "2560                            Loures, Distrito de Lisboa\n",
       "Name: location, dtype: object"
      ]
     },
     "execution_count": 325,
     "metadata": {},
     "output_type": "execute_result"
    }
   ],
   "source": [
    "df.location.sample(5)"
   ]
  },
  {
   "cell_type": "code",
   "execution_count": 326,
   "metadata": {},
   "outputs": [
    {
     "data": {
      "text/html": [
       "<div>\n",
       "<style scoped>\n",
       "    .dataframe tbody tr th:only-of-type {\n",
       "        vertical-align: middle;\n",
       "    }\n",
       "\n",
       "    .dataframe tbody tr th {\n",
       "        vertical-align: top;\n",
       "    }\n",
       "\n",
       "    .dataframe thead th {\n",
       "        text-align: right;\n",
       "    }\n",
       "</style>\n",
       "<table border=\"1\" class=\"dataframe\">\n",
       "  <thead>\n",
       "    <tr style=\"text-align: right;\">\n",
       "      <th></th>\n",
       "      <th>location_zone_0</th>\n",
       "      <th>location_zone_1</th>\n",
       "      <th>location_zone_2</th>\n",
       "      <th>location_zone_3</th>\n",
       "      <th>location_zone_4</th>\n",
       "      <th>location_zone_5</th>\n",
       "    </tr>\n",
       "  </thead>\n",
       "  <tbody>\n",
       "    <tr>\n",
       "      <th>2609</th>\n",
       "      <td>Estrela (Lapa)</td>\n",
       "      <td>Lisboa</td>\n",
       "      <td>Distrito de Lisboa</td>\n",
       "      <td>None</td>\n",
       "      <td>None</td>\n",
       "      <td>None</td>\n",
       "    </tr>\n",
       "    <tr>\n",
       "      <th>5660</th>\n",
       "      <td>Olivais</td>\n",
       "      <td>Lisboa</td>\n",
       "      <td>Distrito de Lisboa</td>\n",
       "      <td>None</td>\n",
       "      <td>None</td>\n",
       "      <td>None</td>\n",
       "    </tr>\n",
       "    <tr>\n",
       "      <th>8953</th>\n",
       "      <td>Avenida Forças Armadas (Nossa Senhora de Fátima)</td>\n",
       "      <td>Avenidas Novas</td>\n",
       "      <td>Lisboa</td>\n",
       "      <td>Distrito de Lisboa</td>\n",
       "      <td>None</td>\n",
       "      <td>None</td>\n",
       "    </tr>\n",
       "    <tr>\n",
       "      <th>15609</th>\n",
       "      <td>Serra da Amoreira (Ramada)</td>\n",
       "      <td>Ramada e Caneças</td>\n",
       "      <td>Odivelas</td>\n",
       "      <td>Distrito de Lisboa</td>\n",
       "      <td>None</td>\n",
       "      <td>None</td>\n",
       "    </tr>\n",
       "    <tr>\n",
       "      <th>4687</th>\n",
       "      <td>Quinta das Pevides</td>\n",
       "      <td>Mafra</td>\n",
       "      <td>Distrito de Lisboa</td>\n",
       "      <td>None</td>\n",
       "      <td>None</td>\n",
       "      <td>None</td>\n",
       "    </tr>\n",
       "  </tbody>\n",
       "</table>\n",
       "</div>"
      ],
      "text/plain": [
       "                                        location_zone_0    location_zone_1  \\\n",
       "2609                                     Estrela (Lapa)             Lisboa   \n",
       "5660                                            Olivais             Lisboa   \n",
       "8953   Avenida Forças Armadas (Nossa Senhora de Fátima)     Avenidas Novas   \n",
       "15609                        Serra da Amoreira (Ramada)   Ramada e Caneças   \n",
       "4687                                Quinta das Pevides               Mafra   \n",
       "\n",
       "           location_zone_2      location_zone_3 location_zone_4  \\\n",
       "2609    Distrito de Lisboa                 None            None   \n",
       "5660    Distrito de Lisboa                 None            None   \n",
       "8953                Lisboa   Distrito de Lisboa            None   \n",
       "15609             Odivelas   Distrito de Lisboa            None   \n",
       "4687    Distrito de Lisboa                 None            None   \n",
       "\n",
       "      location_zone_5  \n",
       "2609             None  \n",
       "5660             None  \n",
       "8953             None  \n",
       "15609            None  \n",
       "4687             None  "
      ]
     },
     "execution_count": 326,
     "metadata": {},
     "output_type": "execute_result"
    }
   ],
   "source": [
    "# Split location info\n",
    "df_location_info_splitted = (\n",
    "    df['location']\n",
    "    .str.split(',', expand=True)\n",
    ")\n",
    "df_location_info_splitted.columns = [\n",
    "    f'location_zone_{n}' for n in df_location_info_splitted.columns\n",
    "]\n",
    "df = df.join(df_location_info_splitted)\n",
    "\n",
    "df_location_info_splitted.sample(5)"
   ]
  },
  {
   "cell_type": "markdown",
   "metadata": {},
   "source": [
    "### `info_agg`\n",
    "This field can contain:\n",
    "- Property_status + area\n",
    "- Only property_status\n",
    "- Only area\n",
    "- Other case"
   ]
  },
  {
   "cell_type": "code",
   "execution_count": 327,
   "metadata": {},
   "outputs": [
    {
     "data": {
      "text/plain": [
       "10624            Usado  ·  183m²\n",
       "9432              Usado  ·  92m²\n",
       "9972              Novo  ·  125m²\n",
       "9504     Em construção  ·  553m²\n",
       "4614           Renovado  ·  70m²\n",
       "20778            Usado  ·  119m²\n",
       "6503              Usado  ·  48m²\n",
       "1223     Em construção  ·  138m²\n",
       "18561            Usado  ·  124m²\n",
       "1177              Novo  ·  152m²\n",
       "Name: info_agg, dtype: object"
      ]
     },
     "execution_count": 327,
     "metadata": {},
     "output_type": "execute_result"
    }
   ],
   "source": [
    "df.info_agg.sample(10)"
   ]
  },
  {
   "cell_type": "code",
   "execution_count": 328,
   "metadata": {},
   "outputs": [
    {
     "name": "stdout",
     "output_type": "stream",
     "text": [
      "Number of records\n",
      "Total:  23507\n",
      "Status and Area: 23124\n",
      "Just Status: 297\n",
      "Just Area: 80\n",
      "Other Case: 6\n",
      "Null: 0\n",
      "\n"
     ]
    }
   ],
   "source": [
    "# define patterns\n",
    "pattern_no_number = r'^[^\\d.]+$' \n",
    "pattern_has_number = r'\\d'\n",
    "pattern_area = r'^\\d+m²$'\n",
    "\n",
    "# filter number of cases\n",
    "just_area = df[df['info_agg'].str.contains(pattern_area, regex=True, na=False)].shape[0]\n",
    "status_and_area = df[df['info_agg'].str.contains(pattern_has_number, regex=True, na=False)].shape[0] - just_area\n",
    "just_status = df[df['info_agg'].str.contains(pattern_no_number, regex=True, na=False)].shape[0]\n",
    "null_info_agg = df[df.info_agg.isna()].shape[0]\n",
    "\n",
    "print(\n",
    "f'''Number of records\n",
    "Total:  {df.shape[0]}\n",
    "Status and Area: {status_and_area}\n",
    "Just Status: {just_status}\n",
    "Just Area: {just_area}\n",
    "Other Case: {df.shape[0] - status_and_area - just_status - just_area}\n",
    "Null: {null_info_agg}\n",
    "'''\n",
    ")\n"
   ]
  },
  {
   "cell_type": "markdown",
   "metadata": {},
   "source": [
    "The main pattern is the first one, so after the split:\n",
    "- `info_0`: Rename to `property_status`.\n",
    "- `info_1`: Rename to `area_m2`. "
   ]
  },
  {
   "cell_type": "code",
   "execution_count": 329,
   "metadata": {},
   "outputs": [],
   "source": [
    "# Split information aggregated\n",
    "df_info_agg_splitted = (\n",
    "    df['info_agg']\n",
    "    .str.split('·', \n",
    "    expand=True)\n",
    ")\n",
    "df_info_agg_splitted.columns = [\n",
    "    f'info_{n}' for n in df_info_agg_splitted.columns\n",
    "]\n",
    "df = df.join(df_info_agg_splitted)\n",
    "\n",
    "# rename columns\n",
    "df.rename(\n",
    "    columns={\n",
    "        'info_0': 'property_status',\n",
    "        'info_1': 'area_m2',\n",
    "    }, \n",
    "    inplace= True\n",
    ")"
   ]
  },
  {
   "cell_type": "markdown",
   "metadata": {},
   "source": [
    "The following cases are trated:\n",
    "\n",
    "**1.** When it has just `property_status`: \n",
    "\n",
    "`area_m2` is `None` and `property_status` is correct -> No action required\n",
    "\n",
    "**2.** Whe it has just `area_m2`:\n",
    "\n",
    "`area_m2` is in `property_status`  -> Action required"
   ]
  },
  {
   "cell_type": "code",
   "execution_count": 330,
   "metadata": {},
   "outputs": [],
   "source": [
    "# Test before transformation\n",
    "\n",
    "pattern_has_number = r'\\d'\n",
    "property_status_with_numbers = df[df['property_status'].str.contains(pattern_has_number, regex=True, na=False)].shape[0]\n",
    "\n",
    "assert property_status_with_numbers != 0"
   ]
  },
  {
   "cell_type": "code",
   "execution_count": 331,
   "metadata": {},
   "outputs": [],
   "source": [
    "def correct_area_and_property_status_values(row):\n",
    "    pattern_has_number = r'\\d'\n",
    "    if (\n",
    "         re.match(pattern_has_number, row['property_status'])\n",
    "    ):\n",
    "        row['area_m2'] = row['property_status']\n",
    "        row['property_status'] = None\n",
    "    return row\n",
    "\n",
    "df = df.apply(correct_area_and_property_status_values, axis = 1)"
   ]
  },
  {
   "cell_type": "code",
   "execution_count": 332,
   "metadata": {},
   "outputs": [],
   "source": [
    "# Test after transformation\n",
    "\n",
    "pattern_has_number = r'\\d'\n",
    "property_status_with_numbers = df[df['property_status'].str.contains(pattern_has_number, regex=True, na=False)].shape[0]\n",
    "\n",
    "assert property_status_with_numbers == 0"
   ]
  },
  {
   "cell_type": "markdown",
   "metadata": {},
   "source": [
    "Remove leading and trailing spaces, and set empty strings to `None`."
   ]
  },
  {
   "cell_type": "code",
   "execution_count": 333,
   "metadata": {},
   "outputs": [],
   "source": [
    "df['property_status'] = df['property_status'].str.strip()\n",
    "df['property_status'] = df['property_status'].replace('', None)"
   ]
  },
  {
   "cell_type": "markdown",
   "metadata": {},
   "source": [
    "Checking for numbers in `property_status`"
   ]
  },
  {
   "cell_type": "code",
   "execution_count": 334,
   "metadata": {},
   "outputs": [
    {
     "data": {
      "text/plain": [
       "property_status\n",
       "Usado                          11342\n",
       "Novo                            5226\n",
       "Em construção                   3285\n",
       "Renovado                        1721\n",
       "Recuperado                      1329\n",
       "Por recuperar                    344\n",
       "Em projecto                      126\n",
       "Para Demolir ou Reconstruir       48\n",
       "Name: count, dtype: int64"
      ]
     },
     "execution_count": 334,
     "metadata": {},
     "output_type": "execute_result"
    }
   ],
   "source": [
    "df.property_status.value_counts()"
   ]
  },
  {
   "cell_type": "markdown",
   "metadata": {},
   "source": [
    "Converting `area_m2` to a numeric type"
   ]
  },
  {
   "cell_type": "code",
   "execution_count": 335,
   "metadata": {},
   "outputs": [],
   "source": [
    "df['area_m2'] = df['area_m2'].str.replace(r'\\D', '', regex=True)\n",
    "df['area_m2'] = pd.to_numeric(df['area_m2'], errors= 'coerce')"
   ]
  },
  {
   "cell_type": "code",
   "execution_count": 336,
   "metadata": {},
   "outputs": [
    {
     "name": "stdout",
     "output_type": "stream",
     "text": [
      "<class 'pandas.core.frame.DataFrame'>\n",
      "RangeIndex: 23507 entries, 0 to 23506\n",
      "Data columns (total 20 columns):\n",
      " #   Column                Non-Null Count  Dtype  \n",
      "---  ------                --------------  -----  \n",
      " 0   type                  23507 non-null  object \n",
      " 1   location              23507 non-null  object \n",
      " 2   link                  23507 non-null  object \n",
      " 3   price_euro            23507 non-null  object \n",
      " 4   info_agg              23507 non-null  object \n",
      " 5   offer_type            23507 non-null  object \n",
      " 6   site                  23507 non-null  object \n",
      " 7   date_extracted        23507 non-null  object \n",
      " 8   offer_type_search     23507 non-null  object \n",
      " 9   property_type_search  23507 non-null  object \n",
      " 10  location_search       23507 non-null  object \n",
      " 11  sub_location_search   23507 non-null  object \n",
      " 12  location_zone_0       23507 non-null  object \n",
      " 13  location_zone_1       23507 non-null  object \n",
      " 14  location_zone_2       21128 non-null  object \n",
      " 15  location_zone_3       5948 non-null   object \n",
      " 16  location_zone_4       686 non-null    object \n",
      " 17  location_zone_5       88 non-null     object \n",
      " 18  property_status       23421 non-null  object \n",
      " 19  area_m2               23204 non-null  float64\n",
      "dtypes: float64(1), object(19)\n",
      "memory usage: 3.6+ MB\n"
     ]
    }
   ],
   "source": [
    "df.info()"
   ]
  },
  {
   "cell_type": "markdown",
   "metadata": {},
   "source": [
    "### `type`\n",
    "\n",
    "The number of bedrooms information is in this field.\n",
    "- Extract the `num_bedrooms` from the `type` column.\n",
    "- Rename the `type` column to `title`"
   ]
  },
  {
   "cell_type": "code",
   "execution_count": 337,
   "metadata": {},
   "outputs": [
    {
     "name": "stdout",
     "output_type": "stream",
     "text": [
      "Number of bedrooms information\n",
      "Total rows:             23507\n",
      "Has the information:    23045\n",
      "Does not have information:  462\n",
      "Null:                   0\n",
      "\n"
     ]
    },
    {
     "name": "stderr",
     "output_type": "stream",
     "text": [
      "/tmp/ipykernel_51735/2758145169.py:3: UserWarning: This pattern is interpreted as a regular expression, and has match groups. To actually get the groups, use str.extract.\n",
      "  rows_with_information = df[df.type.str.contains(pattern_num_bedrooms, regex = True, na = False)].shape[0]\n",
      "/tmp/ipykernel_51735/2758145169.py:4: UserWarning: This pattern is interpreted as a regular expression, and has match groups. To actually get the groups, use str.extract.\n",
      "  rows_with_no_information = df[~df.type.str.contains(pattern_num_bedrooms, regex = True, na = True)].shape[0]\n"
     ]
    }
   ],
   "source": [
    "pattern_num_bedrooms = r'(T\\d\\S*)'\n",
    "\n",
    "rows_with_information = df[df.type.str.contains(pattern_num_bedrooms, regex = True, na = False)].shape[0]\n",
    "rows_with_no_information = df[~df.type.str.contains(pattern_num_bedrooms, regex = True, na = True)].shape[0]\n",
    "null_values = df[df.type.isna()].shape[0]\n",
    "\n",
    "print(\n",
    "f'''Number of bedrooms information\n",
    "Total rows:             {df.shape[0]}\n",
    "Has the information:    {rows_with_information}\n",
    "Does not have information:  {rows_with_no_information}\n",
    "Null:                   {null_values}\n",
    "'''\n",
    ")"
   ]
  },
  {
   "cell_type": "markdown",
   "metadata": {},
   "source": [
    "Extracting `num_bedrooms` from `type` column"
   ]
  },
  {
   "cell_type": "code",
   "execution_count": 338,
   "metadata": {},
   "outputs": [],
   "source": [
    "pattern_num_bedrooms = r'(T\\d\\S*)'\n",
    "df['num_bedrooms'] = df['type'].str.extract(pattern_num_bedrooms)"
   ]
  },
  {
   "cell_type": "markdown",
   "metadata": {},
   "source": [
    "Checking for records and `NaN` values in `num_bedrooms`."
   ]
  },
  {
   "cell_type": "code",
   "execution_count": 339,
   "metadata": {},
   "outputs": [],
   "source": [
    "# number of records extracted\n",
    "assert df[df.num_bedrooms.notna()].shape[0] == rows_with_information\n",
    "assert df[df.num_bedrooms.isna()].shape[0] == rows_with_no_information"
   ]
  },
  {
   "cell_type": "markdown",
   "metadata": {},
   "source": [
    "Transform records that contain a `+` into the actual sum of the bedrooms."
   ]
  },
  {
   "cell_type": "code",
   "execution_count": 340,
   "metadata": {},
   "outputs": [],
   "source": [
    "records_before = df[df.num_bedrooms.notna()].shape[0]\n",
    "\n",
    "def sum_num_bedrooms(record):\n",
    "    if (\n",
    "        isinstance(record, str) \n",
    "        and '+' in record\n",
    "        and len(record) == 4\n",
    "    ):\n",
    "        begin_str, end_str = record.split('+')\n",
    "        real_sum = int(end_str) + int(begin_str[-1])\n",
    "        return f'T{real_sum}'\n",
    "    return record\n",
    "\n",
    "df['num_bedrooms'] = df['num_bedrooms'].apply(sum_num_bedrooms)"
   ]
  },
  {
   "cell_type": "markdown",
   "metadata": {},
   "source": [
    "Transform values with more than 9 bedrooms to `T9+`"
   ]
  },
  {
   "cell_type": "code",
   "execution_count": 341,
   "metadata": {},
   "outputs": [],
   "source": [
    "values_accepted = [ f'T{n}' for n in range(10)]\n",
    "values_accepted.append('T9+')\n",
    "\n",
    "def normalize_num_bedrooms(record):\n",
    "    if (\n",
    "        isinstance(record, str)\n",
    "        and record not in values_accepted\n",
    "    ):\n",
    "        return 'T9+'\n",
    "    return record\n",
    "\n",
    "df['num_bedrooms'] = df['num_bedrooms'].apply(normalize_num_bedrooms)"
   ]
  },
  {
   "cell_type": "code",
   "execution_count": 342,
   "metadata": {},
   "outputs": [
    {
     "data": {
      "text/plain": [
       "num_bedrooms\n",
       "T3     7274\n",
       "T2     6514\n",
       "T4     3874\n",
       "T1     2695\n",
       "T5     1306\n",
       "T6      520\n",
       "T0      431\n",
       "T7      173\n",
       "T8      110\n",
       "T9       79\n",
       "T9+      69\n",
       "Name: count, dtype: int64"
      ]
     },
     "execution_count": 342,
     "metadata": {},
     "output_type": "execute_result"
    }
   ],
   "source": [
    "df.num_bedrooms.value_counts()"
   ]
  },
  {
   "cell_type": "markdown",
   "metadata": {},
   "source": [
    "Checking if we have the same number of records"
   ]
  },
  {
   "cell_type": "code",
   "execution_count": 320,
   "metadata": {},
   "outputs": [],
   "source": [
    "assert df[df.num_bedrooms.notna()].shape[0] == records_before"
   ]
  },
  {
   "cell_type": "markdown",
   "metadata": {},
   "source": [
    "Rename `type` column to `title`"
   ]
  },
  {
   "cell_type": "code",
   "execution_count": 108,
   "metadata": {},
   "outputs": [],
   "source": [
    "# rename type columns\n",
    "df.rename(\n",
    "    columns={\n",
    "        'type': 'title',\n",
    "    }, \n",
    "    inplace= True\n",
    ")"
   ]
  },
  {
   "cell_type": "code",
   "execution_count": 109,
   "metadata": {},
   "outputs": [
    {
     "name": "stdout",
     "output_type": "stream",
     "text": [
      "<class 'pandas.core.frame.DataFrame'>\n",
      "RangeIndex: 23507 entries, 0 to 23506\n",
      "Data columns (total 21 columns):\n",
      " #   Column                Non-Null Count  Dtype  \n",
      "---  ------                --------------  -----  \n",
      " 0   title                 23507 non-null  object \n",
      " 1   location              23507 non-null  object \n",
      " 2   link                  23507 non-null  object \n",
      " 3   price_euro            23507 non-null  object \n",
      " 4   info_agg              23507 non-null  object \n",
      " 5   offer_type            23507 non-null  object \n",
      " 6   site                  23507 non-null  object \n",
      " 7   date_extracted        23507 non-null  object \n",
      " 8   offer_type_search     23507 non-null  object \n",
      " 9   property_type_search  23507 non-null  object \n",
      " 10  location_search       23507 non-null  object \n",
      " 11  sub_location_search   23507 non-null  object \n",
      " 12  location_zone_0       23507 non-null  object \n",
      " 13  location_zone_1       23507 non-null  object \n",
      " 14  location_zone_2       21128 non-null  object \n",
      " 15  location_zone_3       5948 non-null   object \n",
      " 16  location_zone_4       686 non-null    object \n",
      " 17  location_zone_5       88 non-null     object \n",
      " 18  property_status       23421 non-null  object \n",
      " 19  area_m2               23204 non-null  float64\n",
      " 20  num_bedrooms          23045 non-null  object \n",
      "dtypes: float64(1), object(20)\n",
      "memory usage: 3.8+ MB\n"
     ]
    }
   ],
   "source": [
    "df.info()"
   ]
  },
  {
   "cell_type": "markdown",
   "metadata": {},
   "source": [
    "## Change data types"
   ]
  },
  {
   "cell_type": "code",
   "execution_count": 110,
   "metadata": {},
   "outputs": [],
   "source": [
    "# Change the wrong column name\n",
    "try:\n",
    "    df.rename(columns={'prince': 'price_euro'}, inplace= True)\n",
    "except:\n",
    "    pass\n",
    "\n",
    "try:\n",
    "    df.rename(columns={'price': 'price_euro'}, inplace= True)\n",
    "except:\n",
    "    pass\n",
    "\n",
    "# remove time in date\n",
    "df['date_extracted'] = pd.to_datetime(df['date_extracted']).dt.date\n",
    "\n",
    "# change price column\n",
    "df['price_euro'] = df['price_euro'].str.replace(r'\\D', '', regex=True)\n",
    "df['price_euro'] = pd.to_numeric(df['price_euro'], errors= 'coerce')\n",
    "\n",
    "# Set none in empty strings in sub_location_search\n",
    "df['sub_location_search'] = (\n",
    "    df['sub_location_search']\n",
    "    .apply(lambda x: None if x == '' else x)\n",
    ")"
   ]
  },
  {
   "cell_type": "markdown",
   "metadata": {},
   "source": [
    "## Drop columns and duplicates"
   ]
  },
  {
   "cell_type": "code",
   "execution_count": 111,
   "metadata": {},
   "outputs": [],
   "source": [
    "# Remove location and info_agg\n",
    "df = df.drop(\n",
    "    columns= ['location', 'info_agg']\n",
    ")\n",
    "\n",
    "# Drop Duplicated\n",
    "df.drop_duplicates(inplace=True)"
   ]
  },
  {
   "cell_type": "markdown",
   "metadata": {},
   "source": [
    "## Set ID from link\n",
    "- There is an ID in the end of each link, like this: `/comprar-alugar-apartamento-t6-ou-superior-lisboa-estrela-711abb47-7f1c-11ee-aeeb-060000000051.html`. The ID will be this `711abb47-7f1c-11ee-aeeb-060000000051`\n",
    "- The ID will be used to identify each advertisement.\n",
    "- We must check for duplicated ID's and ensure that all of them start with `ID`.\n",
    "- Some links do not contain this `link` structure, so in these cases, the `link_id` will be `NaN`."
   ]
  },
  {
   "cell_type": "code",
   "execution_count": 112,
   "metadata": {},
   "outputs": [
    {
     "data": {
      "text/plain": [
       "11657    /comprar-apartamento-t2-lisboa-sao-domingos-de...\n",
       "14631    /comprar-apartamento-t2-lisboa-avenidas-novas-...\n",
       "15815    /comprar-moradia-t2-lisboa-marvila-748ef50b-11...\n",
       "20438    /comprar-moradia-t5-cascais-e-estoril-a2d63f87...\n",
       "6283     /comprar-apartamento-t4-amadora-aguas-livres-u...\n",
       "16508    /comprar-moradia-t4-mafra-ericeira-20ed85ae-77...\n",
       "17794    /comprar-moradia-geminada-t3-cascais-carcavelo...\n",
       "2384     /comprar-apartamento-t2-cascais-sao-domingos-d...\n",
       "13175    /comprar-apartamento-t1-cascais-e-estoril-d450...\n",
       "11598    /comprar-apartamento-t4-cascais-e-estoril-c00a...\n",
       "Name: link, dtype: object"
      ]
     },
     "execution_count": 112,
     "metadata": {},
     "output_type": "execute_result"
    }
   ],
   "source": [
    "df.link.sample(10)"
   ]
  },
  {
   "cell_type": "code",
   "execution_count": 113,
   "metadata": {},
   "outputs": [
    {
     "data": {
      "text/plain": [
       "36"
      ]
     },
     "execution_count": 113,
     "metadata": {},
     "output_type": "execute_result"
    }
   ],
   "source": [
    "df[df.link.duplicated()].shape[0]"
   ]
  },
  {
   "cell_type": "markdown",
   "metadata": {},
   "source": [
    "There are some duplicated IDs. This happens because some properties are avaiable for both purchase and rent (*comprar/alugar*). In these cases, only the purchase option will be kept because:\n",
    "1. This is the price pattern\n",
    "2. This is the first search "
   ]
  },
  {
   "cell_type": "code",
   "execution_count": 114,
   "metadata": {},
   "outputs": [
    {
     "data": {
      "text/html": [
       "<div>\n",
       "<style scoped>\n",
       "    .dataframe tbody tr th:only-of-type {\n",
       "        vertical-align: middle;\n",
       "    }\n",
       "\n",
       "    .dataframe tbody tr th {\n",
       "        vertical-align: top;\n",
       "    }\n",
       "\n",
       "    .dataframe thead th {\n",
       "        text-align: right;\n",
       "    }\n",
       "</style>\n",
       "<table border=\"1\" class=\"dataframe\">\n",
       "  <thead>\n",
       "    <tr style=\"text-align: right;\">\n",
       "      <th></th>\n",
       "      <th>title</th>\n",
       "      <th>link</th>\n",
       "      <th>price_euro</th>\n",
       "      <th>offer_type</th>\n",
       "      <th>site</th>\n",
       "      <th>date_extracted</th>\n",
       "      <th>offer_type_search</th>\n",
       "      <th>property_type_search</th>\n",
       "      <th>location_search</th>\n",
       "      <th>sub_location_search</th>\n",
       "      <th>location_zone_0</th>\n",
       "      <th>location_zone_1</th>\n",
       "      <th>location_zone_2</th>\n",
       "      <th>location_zone_3</th>\n",
       "      <th>location_zone_4</th>\n",
       "      <th>location_zone_5</th>\n",
       "      <th>property_status</th>\n",
       "      <th>area_m2</th>\n",
       "      <th>num_bedrooms</th>\n",
       "    </tr>\n",
       "  </thead>\n",
       "  <tbody>\n",
       "    <tr>\n",
       "      <th>23261</th>\n",
       "      <td>Villa</td>\n",
       "      <td>/comprar-alugar-villa-lisboa-sao-vicente-graca...</td>\n",
       "      <td>8500.0</td>\n",
       "      <td>comprar / alugar</td>\n",
       "      <td>sapo</td>\n",
       "      <td>2024-07-25</td>\n",
       "      <td>alugar</td>\n",
       "      <td>moradias</td>\n",
       "      <td>distrito.lisboa</td>\n",
       "      <td>None</td>\n",
       "      <td>Graça</td>\n",
       "      <td>São Vicente</td>\n",
       "      <td>Lisboa</td>\n",
       "      <td>Distrito de Lisboa</td>\n",
       "      <td>None</td>\n",
       "      <td>None</td>\n",
       "      <td>Recuperado</td>\n",
       "      <td>260.0</td>\n",
       "      <td>NaN</td>\n",
       "    </tr>\n",
       "  </tbody>\n",
       "</table>\n",
       "</div>"
      ],
      "text/plain": [
       "       title                                               link  price_euro  \\\n",
       "23261  Villa  /comprar-alugar-villa-lisboa-sao-vicente-graca...      8500.0   \n",
       "\n",
       "             offer_type  site date_extracted offer_type_search  \\\n",
       "23261  comprar / alugar  sapo     2024-07-25            alugar   \n",
       "\n",
       "      property_type_search  location_search sub_location_search  \\\n",
       "23261             moradias  distrito.lisboa                None   \n",
       "\n",
       "      location_zone_0 location_zone_1 location_zone_2      location_zone_3  \\\n",
       "23261           Graça     São Vicente          Lisboa   Distrito de Lisboa   \n",
       "\n",
       "      location_zone_4 location_zone_5 property_status  area_m2 num_bedrooms  \n",
       "23261            None            None      Recuperado    260.0          NaN  "
      ]
     },
     "execution_count": 114,
     "metadata": {},
     "output_type": "execute_result"
    }
   ],
   "source": [
    "df[\n",
    "    (df.duplicated(subset='link'))\n",
    "    & (df.price_euro < 30000)\n",
    "]"
   ]
  },
  {
   "cell_type": "markdown",
   "metadata": {},
   "source": [
    "Removing duplicate links"
   ]
  },
  {
   "cell_type": "code",
   "execution_count": 115,
   "metadata": {},
   "outputs": [],
   "source": [
    "index_to_remove = df[\n",
    "    (df.link.duplicated(keep='first'))\n",
    "    & (df.offer_type_search == 'alugar')\n",
    "].index\n",
    "\n",
    "df.drop(index=index_to_remove, inplace=True)"
   ]
  },
  {
   "cell_type": "markdown",
   "metadata": {},
   "source": [
    "Checking for duplicates"
   ]
  },
  {
   "cell_type": "code",
   "execution_count": 116,
   "metadata": {},
   "outputs": [],
   "source": [
    "assert df[df.link.duplicated()].shape[0] == 0"
   ]
  },
  {
   "cell_type": "markdown",
   "metadata": {},
   "source": [
    "Retrieving ID information from `link`. It extracts the 32 characters preceding *.html* in `link`."
   ]
  },
  {
   "cell_type": "code",
   "execution_count": 117,
   "metadata": {},
   "outputs": [],
   "source": [
    "pattern = r'([a-zA-Z0-9\\-]{32})\\.html$'\n",
    "df['link_id'] = df['link'].str.extract(pattern)\n",
    "# Convert to strings\n",
    "df['link_id'] = df['link_id'].astype(str)"
   ]
  },
  {
   "cell_type": "markdown",
   "metadata": {},
   "source": [
    "Checking the cases where there is no ID in the `link` column, so the `link_id` is `NaN`,"
   ]
  },
  {
   "cell_type": "code",
   "execution_count": 118,
   "metadata": {},
   "outputs": [],
   "source": [
    "assert df[(df.link_id.apply(len) < 32)].shape[0] == df[df.link.str.contains('http')].shape[0]"
   ]
  },
  {
   "cell_type": "markdown",
   "metadata": {},
   "source": [
    "Setting null values where the string is *'nan'*"
   ]
  },
  {
   "cell_type": "code",
   "execution_count": 119,
   "metadata": {},
   "outputs": [],
   "source": [
    "df['link_id'] = df['link_id'].replace('nan', None)"
   ]
  },
  {
   "cell_type": "markdown",
   "metadata": {},
   "source": [
    "Checking for duplicated `link_id` values"
   ]
  },
  {
   "cell_type": "code",
   "execution_count": 120,
   "metadata": {},
   "outputs": [],
   "source": [
    "assert df.link_id.nunique() == df.link_id.notna().sum()"
   ]
  },
  {
   "cell_type": "code",
   "execution_count": 121,
   "metadata": {},
   "outputs": [
    {
     "name": "stdout",
     "output_type": "stream",
     "text": [
      "<class 'pandas.core.frame.DataFrame'>\n",
      "Index: 23457 entries, 0 to 23506\n",
      "Data columns (total 20 columns):\n",
      " #   Column                Non-Null Count  Dtype  \n",
      "---  ------                --------------  -----  \n",
      " 0   title                 23457 non-null  object \n",
      " 1   link                  23457 non-null  object \n",
      " 2   price_euro            23050 non-null  float64\n",
      " 3   offer_type            23457 non-null  object \n",
      " 4   site                  23457 non-null  object \n",
      " 5   date_extracted        23457 non-null  object \n",
      " 6   offer_type_search     23457 non-null  object \n",
      " 7   property_type_search  23457 non-null  object \n",
      " 8   location_search       23457 non-null  object \n",
      " 9   sub_location_search   0 non-null      object \n",
      " 10  location_zone_0       23457 non-null  object \n",
      " 11  location_zone_1       23457 non-null  object \n",
      " 12  location_zone_2       21084 non-null  object \n",
      " 13  location_zone_3       5930 non-null   object \n",
      " 14  location_zone_4       681 non-null    object \n",
      " 15  location_zone_5       86 non-null     object \n",
      " 16  property_status       23371 non-null  object \n",
      " 17  area_m2               23161 non-null  float64\n",
      " 18  num_bedrooms          22996 non-null  object \n",
      " 19  link_id               22767 non-null  object \n",
      "dtypes: float64(2), object(18)\n",
      "memory usage: 3.8+ MB\n"
     ]
    }
   ],
   "source": [
    "df.info()"
   ]
  },
  {
   "cell_type": "markdown",
   "metadata": {},
   "source": [
    "## Reindex the dataframe"
   ]
  },
  {
   "cell_type": "code",
   "execution_count": 122,
   "metadata": {},
   "outputs": [],
   "source": [
    "# Remove columns\n",
    "desired_columns = [\n",
    "    'title', \n",
    "    'price_euro', \n",
    "    'area_m2',\n",
    "    'num_bedrooms',\n",
    "    'property_status',\n",
    "    'location_zone_0',\n",
    "    'location_zone_1',\n",
    "    'location_zone_2',\n",
    "    'location_zone_3', \n",
    "    'location_zone_4',\n",
    "    'location_zone_5', \n",
    "    'location_zone_6', \n",
    "    'site',\n",
    "    'link_id',\n",
    "    'link', \n",
    "    'offer_type_search', \n",
    "    'property_type_search',\n",
    "    'location_search',\n",
    "    'sub_location_search',\n",
    "    'date_extracted'\n",
    "]\n",
    "\n",
    "df = df.reindex(columns=desired_columns)"
   ]
  },
  {
   "cell_type": "code",
   "execution_count": 123,
   "metadata": {},
   "outputs": [
    {
     "name": "stdout",
     "output_type": "stream",
     "text": [
      "<class 'pandas.core.frame.DataFrame'>\n",
      "Index: 23457 entries, 0 to 23506\n",
      "Data columns (total 20 columns):\n",
      " #   Column                Non-Null Count  Dtype  \n",
      "---  ------                --------------  -----  \n",
      " 0   title                 23457 non-null  object \n",
      " 1   price_euro            23050 non-null  float64\n",
      " 2   area_m2               23161 non-null  float64\n",
      " 3   num_bedrooms          22996 non-null  object \n",
      " 4   property_status       23371 non-null  object \n",
      " 5   location_zone_0       23457 non-null  object \n",
      " 6   location_zone_1       23457 non-null  object \n",
      " 7   location_zone_2       21084 non-null  object \n",
      " 8   location_zone_3       5930 non-null   object \n",
      " 9   location_zone_4       681 non-null    object \n",
      " 10  location_zone_5       86 non-null     object \n",
      " 11  location_zone_6       0 non-null      float64\n",
      " 12  site                  23457 non-null  object \n",
      " 13  link_id               22767 non-null  object \n",
      " 14  link                  23457 non-null  object \n",
      " 15  offer_type_search     23457 non-null  object \n",
      " 16  property_type_search  23457 non-null  object \n",
      " 17  location_search       23457 non-null  object \n",
      " 18  sub_location_search   0 non-null      object \n",
      " 19  date_extracted        23457 non-null  object \n",
      "dtypes: float64(3), object(17)\n",
      "memory usage: 3.8+ MB\n"
     ]
    }
   ],
   "source": [
    "df.info()"
   ]
  },
  {
   "cell_type": "markdown",
   "metadata": {},
   "source": [
    "## Checking transformation"
   ]
  },
  {
   "cell_type": "code",
   "execution_count": 124,
   "metadata": {},
   "outputs": [
    {
     "data": {
      "text/plain": [
       "title                     0.000000\n",
       "price_euro                1.735090\n",
       "area_m2                   1.261883\n",
       "num_bedrooms              1.965298\n",
       "property_status           0.366628\n",
       "location_zone_0           0.000000\n",
       "location_zone_1           0.000000\n",
       "location_zone_2          10.116383\n",
       "location_zone_3          74.719700\n",
       "location_zone_4          97.096815\n",
       "location_zone_5          99.633372\n",
       "location_zone_6         100.000000\n",
       "site                      0.000000\n",
       "link_id                   2.941553\n",
       "link                      0.000000\n",
       "offer_type_search         0.000000\n",
       "property_type_search      0.000000\n",
       "location_search           0.000000\n",
       "sub_location_search     100.000000\n",
       "date_extracted            0.000000\n",
       "dtype: float64"
      ]
     },
     "execution_count": 124,
     "metadata": {},
     "output_type": "execute_result"
    }
   ],
   "source": [
    "(df.isna().sum() / df.shape[0]) * 100"
   ]
  },
  {
   "cell_type": "code",
   "execution_count": 125,
   "metadata": {},
   "outputs": [
    {
     "data": {
      "text/plain": [
       "np.int64(0)"
      ]
     },
     "execution_count": 125,
     "metadata": {},
     "output_type": "execute_result"
    }
   ],
   "source": [
    "df.duplicated().sum()"
   ]
  },
  {
   "cell_type": "code",
   "execution_count": 126,
   "metadata": {},
   "outputs": [
    {
     "name": "stdout",
     "output_type": "stream",
     "text": [
      "<class 'pandas.core.frame.DataFrame'>\n",
      "Index: 23457 entries, 0 to 23506\n",
      "Data columns (total 20 columns):\n",
      " #   Column                Non-Null Count  Dtype  \n",
      "---  ------                --------------  -----  \n",
      " 0   title                 23457 non-null  object \n",
      " 1   price_euro            23050 non-null  float64\n",
      " 2   area_m2               23161 non-null  float64\n",
      " 3   num_bedrooms          22996 non-null  object \n",
      " 4   property_status       23371 non-null  object \n",
      " 5   location_zone_0       23457 non-null  object \n",
      " 6   location_zone_1       23457 non-null  object \n",
      " 7   location_zone_2       21084 non-null  object \n",
      " 8   location_zone_3       5930 non-null   object \n",
      " 9   location_zone_4       681 non-null    object \n",
      " 10  location_zone_5       86 non-null     object \n",
      " 11  location_zone_6       0 non-null      float64\n",
      " 12  site                  23457 non-null  object \n",
      " 13  link_id               22767 non-null  object \n",
      " 14  link                  23457 non-null  object \n",
      " 15  offer_type_search     23457 non-null  object \n",
      " 16  property_type_search  23457 non-null  object \n",
      " 17  location_search       23457 non-null  object \n",
      " 18  sub_location_search   0 non-null      object \n",
      " 19  date_extracted        23457 non-null  object \n",
      "dtypes: float64(3), object(17)\n",
      "memory usage: 3.8+ MB\n"
     ]
    }
   ],
   "source": [
    "df.info()"
   ]
  },
  {
   "cell_type": "code",
   "execution_count": 127,
   "metadata": {},
   "outputs": [
    {
     "data": {
      "text/html": [
       "<div>\n",
       "<style scoped>\n",
       "    .dataframe tbody tr th:only-of-type {\n",
       "        vertical-align: middle;\n",
       "    }\n",
       "\n",
       "    .dataframe tbody tr th {\n",
       "        vertical-align: top;\n",
       "    }\n",
       "\n",
       "    .dataframe thead th {\n",
       "        text-align: right;\n",
       "    }\n",
       "</style>\n",
       "<table border=\"1\" class=\"dataframe\">\n",
       "  <thead>\n",
       "    <tr style=\"text-align: right;\">\n",
       "      <th></th>\n",
       "      <th>title</th>\n",
       "      <th>price_euro</th>\n",
       "      <th>area_m2</th>\n",
       "      <th>num_bedrooms</th>\n",
       "      <th>property_status</th>\n",
       "      <th>location_zone_0</th>\n",
       "      <th>location_zone_1</th>\n",
       "      <th>location_zone_2</th>\n",
       "      <th>location_zone_3</th>\n",
       "      <th>location_zone_4</th>\n",
       "      <th>location_zone_5</th>\n",
       "      <th>location_zone_6</th>\n",
       "      <th>site</th>\n",
       "      <th>link_id</th>\n",
       "      <th>link</th>\n",
       "      <th>offer_type_search</th>\n",
       "      <th>property_type_search</th>\n",
       "      <th>location_search</th>\n",
       "      <th>sub_location_search</th>\n",
       "      <th>date_extracted</th>\n",
       "    </tr>\n",
       "  </thead>\n",
       "  <tbody>\n",
       "    <tr>\n",
       "      <th>18721</th>\n",
       "      <td>Moradia T4</td>\n",
       "      <td>845000.0</td>\n",
       "      <td>450.0</td>\n",
       "      <td>T4</td>\n",
       "      <td>Usado</td>\n",
       "      <td>Santa Iria de Azoia</td>\n",
       "      <td>São João da Talha e Bobadela</td>\n",
       "      <td>Loures</td>\n",
       "      <td>Distrito de Lisboa</td>\n",
       "      <td>None</td>\n",
       "      <td>None</td>\n",
       "      <td>NaN</td>\n",
       "      <td>sapo</td>\n",
       "      <td>7ba5-0157-11ef-8c6f-060000000054</td>\n",
       "      <td>/comprar-moradia-t4-loures-santa-iria-de-azoia...</td>\n",
       "      <td>comprar</td>\n",
       "      <td>moradias</td>\n",
       "      <td>distrito.lisboa</td>\n",
       "      <td>None</td>\n",
       "      <td>2024-07-25</td>\n",
       "    </tr>\n",
       "    <tr>\n",
       "      <th>10161</th>\n",
       "      <td>Apartamento T2</td>\n",
       "      <td>200000.0</td>\n",
       "      <td>70.0</td>\n",
       "      <td>T2</td>\n",
       "      <td>Usado</td>\n",
       "      <td>Mina de Água</td>\n",
       "      <td>Amadora</td>\n",
       "      <td>Distrito de Lisboa</td>\n",
       "      <td>None</td>\n",
       "      <td>None</td>\n",
       "      <td>None</td>\n",
       "      <td>NaN</td>\n",
       "      <td>sapo</td>\n",
       "      <td>b69a-cf22-11ee-adb9-060000000054</td>\n",
       "      <td>/comprar-apartamento-t2-amadora-mina-de-agua-4...</td>\n",
       "      <td>comprar</td>\n",
       "      <td>apartamentos</td>\n",
       "      <td>distrito.lisboa</td>\n",
       "      <td>None</td>\n",
       "      <td>2024-07-25</td>\n",
       "    </tr>\n",
       "    <tr>\n",
       "      <th>4304</th>\n",
       "      <td>Apartamento T2</td>\n",
       "      <td>245000.0</td>\n",
       "      <td>71.0</td>\n",
       "      <td>T2</td>\n",
       "      <td>Usado</td>\n",
       "      <td>Marvila</td>\n",
       "      <td>Lisboa</td>\n",
       "      <td>Distrito de Lisboa</td>\n",
       "      <td>None</td>\n",
       "      <td>None</td>\n",
       "      <td>None</td>\n",
       "      <td>NaN</td>\n",
       "      <td>sapo</td>\n",
       "      <td>190b-49a3-11ef-8add-060000000054</td>\n",
       "      <td>/comprar-apartamento-t2-lisboa-marvila-80f0190...</td>\n",
       "      <td>comprar</td>\n",
       "      <td>apartamentos</td>\n",
       "      <td>distrito.lisboa</td>\n",
       "      <td>None</td>\n",
       "      <td>2024-07-25</td>\n",
       "    </tr>\n",
       "    <tr>\n",
       "      <th>20838</th>\n",
       "      <td>Moradia Isolada T5</td>\n",
       "      <td>1100000.0</td>\n",
       "      <td>383.0</td>\n",
       "      <td>T5</td>\n",
       "      <td>Novo</td>\n",
       "      <td>Pontinha e Famões</td>\n",
       "      <td>Odivelas</td>\n",
       "      <td>Distrito de Lisboa</td>\n",
       "      <td>None</td>\n",
       "      <td>None</td>\n",
       "      <td>None</td>\n",
       "      <td>NaN</td>\n",
       "      <td>sapo</td>\n",
       "      <td>5a6d-8f48-11ee-a521-060000000056</td>\n",
       "      <td>/comprar-moradia-isolada-t5-odivelas-pontinha-...</td>\n",
       "      <td>comprar</td>\n",
       "      <td>moradias</td>\n",
       "      <td>distrito.lisboa</td>\n",
       "      <td>None</td>\n",
       "      <td>2024-07-25</td>\n",
       "    </tr>\n",
       "    <tr>\n",
       "      <th>19302</th>\n",
       "      <td>Andar de Moradia T2</td>\n",
       "      <td>137700.0</td>\n",
       "      <td>51.0</td>\n",
       "      <td>T2</td>\n",
       "      <td>Usado</td>\n",
       "      <td>Arruda dos Vinhos</td>\n",
       "      <td>Distrito de Lisboa</td>\n",
       "      <td>None</td>\n",
       "      <td>None</td>\n",
       "      <td>None</td>\n",
       "      <td>None</td>\n",
       "      <td>NaN</td>\n",
       "      <td>sapo</td>\n",
       "      <td>a42e-f177-11ee-8c6f-060000000054</td>\n",
       "      <td>/comprar-andar-de-moradia-t2-arruda-dos-vinhos...</td>\n",
       "      <td>comprar</td>\n",
       "      <td>moradias</td>\n",
       "      <td>distrito.lisboa</td>\n",
       "      <td>None</td>\n",
       "      <td>2024-07-25</td>\n",
       "    </tr>\n",
       "  </tbody>\n",
       "</table>\n",
       "</div>"
      ],
      "text/plain": [
       "                     title  price_euro  area_m2 num_bedrooms property_status  \\\n",
       "18721           Moradia T4    845000.0    450.0           T4           Usado   \n",
       "10161       Apartamento T2    200000.0     70.0           T2           Usado   \n",
       "4304        Apartamento T2    245000.0     71.0           T2           Usado   \n",
       "20838   Moradia Isolada T5   1100000.0    383.0           T5            Novo   \n",
       "19302  Andar de Moradia T2    137700.0     51.0           T2           Usado   \n",
       "\n",
       "           location_zone_0                location_zone_1  \\\n",
       "18721  Santa Iria de Azoia   São João da Talha e Bobadela   \n",
       "10161         Mina de Água                        Amadora   \n",
       "4304               Marvila                         Lisboa   \n",
       "20838    Pontinha e Famões                       Odivelas   \n",
       "19302    Arruda dos Vinhos             Distrito de Lisboa   \n",
       "\n",
       "           location_zone_2      location_zone_3 location_zone_4  \\\n",
       "18721               Loures   Distrito de Lisboa            None   \n",
       "10161   Distrito de Lisboa                 None            None   \n",
       "4304    Distrito de Lisboa                 None            None   \n",
       "20838   Distrito de Lisboa                 None            None   \n",
       "19302                 None                 None            None   \n",
       "\n",
       "      location_zone_5  location_zone_6  site  \\\n",
       "18721            None              NaN  sapo   \n",
       "10161            None              NaN  sapo   \n",
       "4304             None              NaN  sapo   \n",
       "20838            None              NaN  sapo   \n",
       "19302            None              NaN  sapo   \n",
       "\n",
       "                                link_id  \\\n",
       "18721  7ba5-0157-11ef-8c6f-060000000054   \n",
       "10161  b69a-cf22-11ee-adb9-060000000054   \n",
       "4304   190b-49a3-11ef-8add-060000000054   \n",
       "20838  5a6d-8f48-11ee-a521-060000000056   \n",
       "19302  a42e-f177-11ee-8c6f-060000000054   \n",
       "\n",
       "                                                    link offer_type_search  \\\n",
       "18721  /comprar-moradia-t4-loures-santa-iria-de-azoia...           comprar   \n",
       "10161  /comprar-apartamento-t2-amadora-mina-de-agua-4...           comprar   \n",
       "4304   /comprar-apartamento-t2-lisboa-marvila-80f0190...           comprar   \n",
       "20838  /comprar-moradia-isolada-t5-odivelas-pontinha-...           comprar   \n",
       "19302  /comprar-andar-de-moradia-t2-arruda-dos-vinhos...           comprar   \n",
       "\n",
       "      property_type_search  location_search sub_location_search date_extracted  \n",
       "18721             moradias  distrito.lisboa                None     2024-07-25  \n",
       "10161         apartamentos  distrito.lisboa                None     2024-07-25  \n",
       "4304          apartamentos  distrito.lisboa                None     2024-07-25  \n",
       "20838             moradias  distrito.lisboa                None     2024-07-25  \n",
       "19302             moradias  distrito.lisboa                None     2024-07-25  "
      ]
     },
     "execution_count": 127,
     "metadata": {},
     "output_type": "execute_result"
    }
   ],
   "source": [
    "df.sample(5)"
   ]
  }
 ],
 "metadata": {
  "kernelspec": {
   "display_name": ".venv",
   "language": "python",
   "name": "python3"
  },
  "language_info": {
   "codemirror_mode": {
    "name": "ipython",
    "version": 3
   },
   "file_extension": ".py",
   "mimetype": "text/x-python",
   "name": "python",
   "nbconvert_exporter": "python",
   "pygments_lexer": "ipython3",
   "version": "3.12.3"
  }
 },
 "nbformat": 4,
 "nbformat_minor": 2
}
