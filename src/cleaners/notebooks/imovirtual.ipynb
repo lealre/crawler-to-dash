{
 "cells": [
  {
   "cell_type": "markdown",
   "metadata": {},
   "source": [
    "## Cleaning data extracted from Imovirtual"
   ]
  },
  {
   "cell_type": "code",
   "execution_count": 1,
   "metadata": {},
   "outputs": [
    {
     "data": {
      "text/html": [
       "<div>\n",
       "<style scoped>\n",
       "    .dataframe tbody tr th:only-of-type {\n",
       "        vertical-align: middle;\n",
       "    }\n",
       "\n",
       "    .dataframe tbody tr th {\n",
       "        vertical-align: top;\n",
       "    }\n",
       "\n",
       "    .dataframe thead th {\n",
       "        text-align: right;\n",
       "    }\n",
       "</style>\n",
       "<table border=\"1\" class=\"dataframe\">\n",
       "  <thead>\n",
       "    <tr style=\"text-align: right;\">\n",
       "      <th></th>\n",
       "      <th>title</th>\n",
       "      <th>price_euro</th>\n",
       "      <th>location</th>\n",
       "      <th>link</th>\n",
       "      <th>info_agg</th>\n",
       "      <th>site</th>\n",
       "      <th>date_extracted</th>\n",
       "      <th>offer_type_search</th>\n",
       "      <th>property_type_search</th>\n",
       "      <th>location_search</th>\n",
       "      <th>sub_location_search</th>\n",
       "    </tr>\n",
       "  </thead>\n",
       "  <tbody>\n",
       "    <tr>\n",
       "      <th>0</th>\n",
       "      <td>Sobralinho, T2, 78m2, 100% renovado materiais ...</td>\n",
       "      <td>225 000 €</td>\n",
       "      <td>Rua 1º de Maio - Bom Sucesso, Sobralinho, Alve...</td>\n",
       "      <td>/pt/anuncio/sobralinho-t2-78m2-100-renovado-ma...</td>\n",
       "      <td>[T2, 78 m², 2885 €/m², rés do chão]</td>\n",
       "      <td>imovirtual</td>\n",
       "      <td>2024-07-25T19:52:26.974135</td>\n",
       "      <td>comprar</td>\n",
       "      <td>apartamento</td>\n",
       "      <td>lisboa</td>\n",
       "      <td></td>\n",
       "    </tr>\n",
       "    <tr>\n",
       "      <th>1</th>\n",
       "      <td>T2 NOVO :: Odivelas - Paiã : Salão 58m2 : Equi...</td>\n",
       "      <td>397 000 €</td>\n",
       "      <td>Rua do Casal da Serrinha - Paiã, Pontinha e Fa...</td>\n",
       "      <td>/pt/anuncio/t2-novo-odivelas-paia-salao-58m2-e...</td>\n",
       "      <td>[T2, 131 m², 3031 €/m²]</td>\n",
       "      <td>imovirtual</td>\n",
       "      <td>2024-07-25T19:52:26.974135</td>\n",
       "      <td>comprar</td>\n",
       "      <td>apartamento</td>\n",
       "      <td>lisboa</td>\n",
       "      <td></td>\n",
       "    </tr>\n",
       "    <tr>\n",
       "      <th>2</th>\n",
       "      <td>Apartamento T3 inserido em condomínio privado</td>\n",
       "      <td>695 000 €</td>\n",
       "      <td>Centro, Loures, Loures, Lisboa</td>\n",
       "      <td>/pt/anuncio/apartamento-t3-inserido-em-condomi...</td>\n",
       "      <td>[T3, 177 m², 3927 €/m²]</td>\n",
       "      <td>imovirtual</td>\n",
       "      <td>2024-07-25T19:52:26.974135</td>\n",
       "      <td>comprar</td>\n",
       "      <td>apartamento</td>\n",
       "      <td>lisboa</td>\n",
       "      <td></td>\n",
       "    </tr>\n",
       "    <tr>\n",
       "      <th>3</th>\n",
       "      <td>Apartamento T3 em Oeiras e São Julião da Barra...</td>\n",
       "      <td>425 000 €</td>\n",
       "      <td>Terrugem - Q.ta do Torneiro - Q.ta da Fonte, O...</td>\n",
       "      <td>/pt/anuncio/apartamento-t3-em-oeiras-e-sao-jul...</td>\n",
       "      <td>[T3, 142 m², 2993 €/m²]</td>\n",
       "      <td>imovirtual</td>\n",
       "      <td>2024-07-25T19:52:26.974135</td>\n",
       "      <td>comprar</td>\n",
       "      <td>apartamento</td>\n",
       "      <td>lisboa</td>\n",
       "      <td></td>\n",
       "    </tr>\n",
       "    <tr>\n",
       "      <th>4</th>\n",
       "      <td>Apartamento RECENTE DUPLEX com 5 assoalhadas á...</td>\n",
       "      <td>298 000 €</td>\n",
       "      <td>Santa Maria, São Pedro e Matacães, Torres Vedr...</td>\n",
       "      <td>/pt/anuncio/apartamento-recente-duplex-com-5-a...</td>\n",
       "      <td>[T3, 175 m², 1703 €/m²]</td>\n",
       "      <td>imovirtual</td>\n",
       "      <td>2024-07-25T19:52:26.974135</td>\n",
       "      <td>comprar</td>\n",
       "      <td>apartamento</td>\n",
       "      <td>lisboa</td>\n",
       "      <td></td>\n",
       "    </tr>\n",
       "  </tbody>\n",
       "</table>\n",
       "</div>"
      ],
      "text/plain": [
       "                                               title price_euro  \\\n",
       "0  Sobralinho, T2, 78m2, 100% renovado materiais ...  225 000 €   \n",
       "1  T2 NOVO :: Odivelas - Paiã : Salão 58m2 : Equi...  397 000 €   \n",
       "2      Apartamento T3 inserido em condomínio privado  695 000 €   \n",
       "3  Apartamento T3 em Oeiras e São Julião da Barra...  425 000 €   \n",
       "4  Apartamento RECENTE DUPLEX com 5 assoalhadas á...  298 000 €   \n",
       "\n",
       "                                            location  \\\n",
       "0  Rua 1º de Maio - Bom Sucesso, Sobralinho, Alve...   \n",
       "1  Rua do Casal da Serrinha - Paiã, Pontinha e Fa...   \n",
       "2                     Centro, Loures, Loures, Lisboa   \n",
       "3  Terrugem - Q.ta do Torneiro - Q.ta da Fonte, O...   \n",
       "4  Santa Maria, São Pedro e Matacães, Torres Vedr...   \n",
       "\n",
       "                                                link  \\\n",
       "0  /pt/anuncio/sobralinho-t2-78m2-100-renovado-ma...   \n",
       "1  /pt/anuncio/t2-novo-odivelas-paia-salao-58m2-e...   \n",
       "2  /pt/anuncio/apartamento-t3-inserido-em-condomi...   \n",
       "3  /pt/anuncio/apartamento-t3-em-oeiras-e-sao-jul...   \n",
       "4  /pt/anuncio/apartamento-recente-duplex-com-5-a...   \n",
       "\n",
       "                              info_agg        site  \\\n",
       "0  [T2, 78 m², 2885 €/m², rés do chão]  imovirtual   \n",
       "1              [T2, 131 m², 3031 €/m²]  imovirtual   \n",
       "2              [T3, 177 m², 3927 €/m²]  imovirtual   \n",
       "3              [T3, 142 m², 2993 €/m²]  imovirtual   \n",
       "4              [T3, 175 m², 1703 €/m²]  imovirtual   \n",
       "\n",
       "               date_extracted offer_type_search property_type_search  \\\n",
       "0  2024-07-25T19:52:26.974135           comprar          apartamento   \n",
       "1  2024-07-25T19:52:26.974135           comprar          apartamento   \n",
       "2  2024-07-25T19:52:26.974135           comprar          apartamento   \n",
       "3  2024-07-25T19:52:26.974135           comprar          apartamento   \n",
       "4  2024-07-25T19:52:26.974135           comprar          apartamento   \n",
       "\n",
       "  location_search sub_location_search  \n",
       "0          lisboa                      \n",
       "1          lisboa                      \n",
       "2          lisboa                      \n",
       "3          lisboa                      \n",
       "4          lisboa                      "
      ]
     },
     "execution_count": 1,
     "metadata": {},
     "output_type": "execute_result"
    }
   ],
   "source": [
    "import pandas as pd\n",
    "\n",
    "file_path = 'data/raw/raw_imovirtual_2024-07-25.parquet'\n",
    "df = pd.read_parquet(file_path)\n",
    "df.head()"
   ]
  },
  {
   "cell_type": "code",
   "execution_count": 2,
   "metadata": {},
   "outputs": [],
   "source": [
    "# df.duplicated().sum()"
   ]
  },
  {
   "cell_type": "code",
   "execution_count": 3,
   "metadata": {},
   "outputs": [
    {
     "name": "stdout",
     "output_type": "stream",
     "text": [
      "<class 'pandas.core.frame.DataFrame'>\n",
      "RangeIndex: 31265 entries, 0 to 31264\n",
      "Data columns (total 11 columns):\n",
      " #   Column                Non-Null Count  Dtype \n",
      "---  ------                --------------  ----- \n",
      " 0   title                 31265 non-null  object\n",
      " 1   price_euro            31265 non-null  object\n",
      " 2   location              31264 non-null  object\n",
      " 3   link                  31265 non-null  object\n",
      " 4   info_agg              31265 non-null  object\n",
      " 5   site                  31265 non-null  object\n",
      " 6   date_extracted        31265 non-null  object\n",
      " 7   offer_type_search     31265 non-null  object\n",
      " 8   property_type_search  31265 non-null  object\n",
      " 9   location_search       31265 non-null  object\n",
      " 10  sub_location_search   31265 non-null  object\n",
      "dtypes: object(11)\n",
      "memory usage: 2.6+ MB\n"
     ]
    }
   ],
   "source": [
    "df.info()"
   ]
  },
  {
   "cell_type": "markdown",
   "metadata": {},
   "source": [
    "## Splitting information"
   ]
  },
  {
   "cell_type": "markdown",
   "metadata": {},
   "source": [
    "### `location`\n",
    "- Each location stays in its own column, separated by colons. \n",
    "- None of the columns that were split were removed."
   ]
  },
  {
   "cell_type": "code",
   "execution_count": 4,
   "metadata": {},
   "outputs": [],
   "source": [
    "# Split location info\n",
    "df_location_info_splitted = (\n",
    "    df['location']\n",
    "    .str.split(',', expand=True)\n",
    ")\n",
    "df_location_info_splitted.columns = [\n",
    "    f'location_zone_{n}' for n in df_location_info_splitted.columns\n",
    "]\n",
    "df = df.join(df_location_info_splitted)"
   ]
  },
  {
   "cell_type": "markdown",
   "metadata": {},
   "source": [
    "### `info_agg`\n",
    "- The records in this column come as a list with varying sizes. Only two fields are important:\n",
    "    - `info_0`: New column name: `num_bedrooms`.\n",
    "    - `info_1`: New column name: `area_m2`."
   ]
  },
  {
   "cell_type": "code",
   "execution_count": 5,
   "metadata": {},
   "outputs": [
    {
     "name": "stdout",
     "output_type": "stream",
     "text": [
      "<class 'pandas.core.frame.DataFrame'>\n",
      "RangeIndex: 31265 entries, 0 to 31264\n",
      "Data columns (total 20 columns):\n",
      " #   Column                Non-Null Count  Dtype \n",
      "---  ------                --------------  ----- \n",
      " 0   title                 31265 non-null  object\n",
      " 1   price_euro            31265 non-null  object\n",
      " 2   location              31264 non-null  object\n",
      " 3   link                  31265 non-null  object\n",
      " 4   info_agg              31265 non-null  object\n",
      " 5   site                  31265 non-null  object\n",
      " 6   date_extracted        31265 non-null  object\n",
      " 7   offer_type_search     31265 non-null  object\n",
      " 8   property_type_search  31265 non-null  object\n",
      " 9   location_search       31265 non-null  object\n",
      " 10  sub_location_search   31265 non-null  object\n",
      " 11  location_zone_0       31264 non-null  object\n",
      " 12  location_zone_1       31264 non-null  object\n",
      " 13  location_zone_2       31264 non-null  object\n",
      " 14  location_zone_3       28113 non-null  object\n",
      " 15  location_zone_4       9901 non-null   object\n",
      " 16  location_zone_5       1278 non-null   object\n",
      " 17  location_zone_6       204 non-null    object\n",
      " 18  num_bedrooms          31265 non-null  object\n",
      " 19  area_m2               31258 non-null  object\n",
      "dtypes: object(20)\n",
      "memory usage: 4.8+ MB\n"
     ]
    }
   ],
   "source": [
    "# split information aggregated\n",
    "max_length = df['info_agg'].apply(len).max()\n",
    "df_info_agg_splitted = pd.DataFrame(\n",
    "    df.info_agg.to_list(), \n",
    "    columns = [f'info_{i}' for i in range(max_length)] \n",
    ")\n",
    "df = df.join(df_info_agg_splitted)\n",
    "\n",
    "# remove columns with no interest\n",
    "df = df.drop(\n",
    "    columns= [\n",
    "        f'info_{n}' for n in range(max_length)\n",
    "        if n not in (0,1)\n",
    "    ]\n",
    ")\n",
    "\n",
    "# rename columns\n",
    "df.rename(\n",
    "    columns={\n",
    "        'info_0': 'num_bedrooms',\n",
    "        'info_1': 'area_m2',\n",
    "    }, \n",
    "    inplace= True\n",
    ")\n",
    "\n",
    "df.info()"
   ]
  },
  {
   "cell_type": "markdown",
   "metadata": {},
   "source": [
    "#### `num_bedrooms`\n",
    "- Values must be in `[T0, T1, ..., T9, T9+]`. \n",
    "- When they are not in this list, it indicates the area, so this change will be made."
   ]
  },
  {
   "cell_type": "code",
   "execution_count": 6,
   "metadata": {},
   "outputs": [
    {
     "name": "stdout",
     "output_type": "stream",
     "text": [
      "Values accepted:  ['T0', 'T1', 'T2', 'T3', 'T4', 'T5', 'T6', 'T7', 'T8', 'T9', 'T9+']\n",
      "Number of records with no accepted values: 74\n",
      "Rows with wrong area:  67\n"
     ]
    }
   ],
   "source": [
    "values_accepted = [ f'T{n}' for n in range(10)]\n",
    "values_accepted.append('T9+')\n",
    "\n",
    "# Define function to alter dataframe\n",
    "def correct_num_bedrooms_values(row):\n",
    "    if (\n",
    "        row['num_bedrooms'] \n",
    "        and row['num_bedrooms'] not in values_accepted\n",
    "    ):\n",
    "        row['area_m2'] = row['num_bedrooms']\n",
    "        row['num_bedrooms'] = None\n",
    "    return row\n",
    "\n",
    "# Define variables to test\n",
    "total_rows = df.shape[0]\n",
    "rows_to_change = df[~df.num_bedrooms.str.contains('T')].shape[0]\n",
    "rows_not_null = total_rows - rows_to_change\n",
    "records_with_wrong_area = df.loc[\n",
    "    (df.area_m2.str.contains('€', na=False)) &\n",
    "    (~df.num_bedrooms.str.contains('T'))\n",
    "].shape[0]\n",
    "\n",
    "\n",
    "print('Values accepted: ',values_accepted)\n",
    "print('Number of records with no accepted values:', rows_to_change)\n",
    "print('Rows with wrong area: ', records_with_wrong_area)"
   ]
  },
  {
   "cell_type": "code",
   "execution_count": 7,
   "metadata": {},
   "outputs": [],
   "source": [
    "df = df.apply(correct_num_bedrooms_values, axis = 1)"
   ]
  },
  {
   "cell_type": "markdown",
   "metadata": {},
   "source": [
    "**Test**"
   ]
  },
  {
   "cell_type": "code",
   "execution_count": 8,
   "metadata": {},
   "outputs": [
    {
     "data": {
      "text/plain": [
       "num_bedrooms\n",
       "T3      9325\n",
       "T2      8801\n",
       "T4      4865\n",
       "T1      3525\n",
       "T5      1733\n",
       "T9+     1266\n",
       "T0       647\n",
       "T6       625\n",
       "T7       189\n",
       "T8       122\n",
       "T9        93\n",
       "None      74\n",
       "Name: count, dtype: int64"
      ]
     },
     "execution_count": 8,
     "metadata": {},
     "output_type": "execute_result"
    }
   ],
   "source": [
    "df.num_bedrooms.value_counts(dropna= False)"
   ]
  },
  {
   "cell_type": "code",
   "execution_count": 9,
   "metadata": {},
   "outputs": [
    {
     "name": "stdout",
     "output_type": "stream",
     "text": [
      "Passed\n"
     ]
    }
   ],
   "source": [
    "assert df.num_bedrooms.notna().sum() == rows_not_null\n",
    "print('Passed')"
   ]
  },
  {
   "cell_type": "markdown",
   "metadata": {},
   "source": [
    "### `area_m2`\n",
    "- Keep only the numbers and convert them to integers."
   ]
  },
  {
   "cell_type": "code",
   "execution_count": 10,
   "metadata": {},
   "outputs": [
    {
     "name": "stdout",
     "output_type": "stream",
     "text": [
      "There are 0 rows with wrong data!\n"
     ]
    }
   ],
   "source": [
    "records_with_wrong_area = df.loc[\n",
    "    (df.area_m2.str.contains('€', na=False)) \n",
    "].shape[0]\n",
    "\n",
    "print(f'There are {records_with_wrong_area} rows with wrong data!')\n"
   ]
  },
  {
   "cell_type": "code",
   "execution_count": 11,
   "metadata": {},
   "outputs": [],
   "source": [
    "df['area_m2'] = df['area_m2'].str.replace(r'\\D', '', regex=True)\n",
    "df['area_m2'] = pd.to_numeric(df['area_m2'], errors= 'coerce')"
   ]
  },
  {
   "cell_type": "code",
   "execution_count": 12,
   "metadata": {},
   "outputs": [
    {
     "name": "stdout",
     "output_type": "stream",
     "text": [
      "<class 'pandas.core.frame.DataFrame'>\n",
      "RangeIndex: 31265 entries, 0 to 31264\n",
      "Data columns (total 20 columns):\n",
      " #   Column                Non-Null Count  Dtype \n",
      "---  ------                --------------  ----- \n",
      " 0   title                 31265 non-null  object\n",
      " 1   price_euro            31265 non-null  object\n",
      " 2   location              31264 non-null  object\n",
      " 3   link                  31265 non-null  object\n",
      " 4   info_agg              31265 non-null  object\n",
      " 5   site                  31265 non-null  object\n",
      " 6   date_extracted        31265 non-null  object\n",
      " 7   offer_type_search     31265 non-null  object\n",
      " 8   property_type_search  31265 non-null  object\n",
      " 9   location_search       31265 non-null  object\n",
      " 10  sub_location_search   31265 non-null  object\n",
      " 11  location_zone_0       31264 non-null  object\n",
      " 12  location_zone_1       31264 non-null  object\n",
      " 13  location_zone_2       31264 non-null  object\n",
      " 14  location_zone_3       28113 non-null  object\n",
      " 15  location_zone_4       9901 non-null   object\n",
      " 16  location_zone_5       1278 non-null   object\n",
      " 17  location_zone_6       204 non-null    object\n",
      " 18  num_bedrooms          31191 non-null  object\n",
      " 19  area_m2               31265 non-null  int64 \n",
      "dtypes: int64(1), object(19)\n",
      "memory usage: 4.8+ MB\n"
     ]
    }
   ],
   "source": [
    "df.info()"
   ]
  },
  {
   "cell_type": "markdown",
   "metadata": {},
   "source": [
    "## Change data types"
   ]
  },
  {
   "cell_type": "code",
   "execution_count": 13,
   "metadata": {},
   "outputs": [],
   "source": [
    "# Change the wrong column name\n",
    "try:\n",
    "    df.rename(columns={'prince': 'price_euro'}, inplace= True)\n",
    "except:\n",
    "    pass\n",
    "\n",
    "try:\n",
    "    df.rename(columns={'price': 'price_euro'}, inplace= True)\n",
    "except:\n",
    "    pass\n",
    "\n",
    "# Change price column\n",
    "df['price_euro'] = df['price_euro'].str.replace(r'\\D', '', regex=True)\n",
    "df['price_euro'] = pd.to_numeric(df['price_euro'], errors= 'coerce')\n",
    "\n",
    "# remove time in date\n",
    "df['date_extracted'] = pd.to_datetime(df['date_extracted']).dt.date\n",
    "\n",
    "# Set none in empty strings in sub_location_search\n",
    "df['sub_location_search'] = (\n",
    "    df['sub_location_search']\n",
    "    .apply(lambda x: None if x == '' else x)\n",
    ")"
   ]
  },
  {
   "cell_type": "markdown",
   "metadata": {},
   "source": [
    "## Drop columns and duplicates"
   ]
  },
  {
   "cell_type": "code",
   "execution_count": 14,
   "metadata": {},
   "outputs": [],
   "source": [
    "# Remove location and info_agg\n",
    "df = df.drop(\n",
    "    columns= ['location', 'info_agg']\n",
    ")\n",
    "\n",
    "# Drop Duplicated\n",
    "df.drop_duplicates(inplace=True)"
   ]
  },
  {
   "cell_type": "markdown",
   "metadata": {},
   "source": [
    "## Set ID from link\n",
    "- There is an ID in the end of each link, like this: `/pt/anuncio/studio-t0-c-varanda-zona-nobreqt-grande-3-mints-carro-colombo-IDZVjT`\n",
    "- The ID will be used to identify each advertisement.\n",
    "- We must check for duplicated ID's and ensure that all of them start with `ID`."
   ]
  },
  {
   "cell_type": "code",
   "execution_count": 15,
   "metadata": {},
   "outputs": [
    {
     "data": {
      "text/plain": [
       "Series([], Name: count, dtype: int64)"
      ]
     },
     "execution_count": 15,
     "metadata": {},
     "output_type": "execute_result"
    }
   ],
   "source": [
    "# check IDs duplicated\n",
    "link_serires = df[['link']].value_counts() \n",
    "link_serires[ link_serires == 2]"
   ]
  },
  {
   "cell_type": "code",
   "execution_count": 16,
   "metadata": {},
   "outputs": [
    {
     "data": {
      "text/html": [
       "<div>\n",
       "<style scoped>\n",
       "    .dataframe tbody tr th:only-of-type {\n",
       "        vertical-align: middle;\n",
       "    }\n",
       "\n",
       "    .dataframe tbody tr th {\n",
       "        vertical-align: top;\n",
       "    }\n",
       "\n",
       "    .dataframe thead th {\n",
       "        text-align: right;\n",
       "    }\n",
       "</style>\n",
       "<table border=\"1\" class=\"dataframe\">\n",
       "  <thead>\n",
       "    <tr style=\"text-align: right;\">\n",
       "      <th></th>\n",
       "      <th>title</th>\n",
       "      <th>price_euro</th>\n",
       "      <th>link</th>\n",
       "      <th>site</th>\n",
       "      <th>date_extracted</th>\n",
       "      <th>offer_type_search</th>\n",
       "      <th>property_type_search</th>\n",
       "      <th>location_search</th>\n",
       "      <th>sub_location_search</th>\n",
       "      <th>location_zone_0</th>\n",
       "      <th>location_zone_1</th>\n",
       "      <th>location_zone_2</th>\n",
       "      <th>location_zone_3</th>\n",
       "      <th>location_zone_4</th>\n",
       "      <th>location_zone_5</th>\n",
       "      <th>location_zone_6</th>\n",
       "      <th>num_bedrooms</th>\n",
       "      <th>area_m2</th>\n",
       "    </tr>\n",
       "  </thead>\n",
       "  <tbody>\n",
       "    <tr>\n",
       "      <th>15356</th>\n",
       "      <td>Duplex T0 para venda</td>\n",
       "      <td>260000.0</td>\n",
       "      <td>/pt/anuncio/duplex-t0-para-venda-ID1cOqD</td>\n",
       "      <td>imovirtual</td>\n",
       "      <td>2024-07-25</td>\n",
       "      <td>comprar</td>\n",
       "      <td>apartamento</td>\n",
       "      <td>lisboa</td>\n",
       "      <td>None</td>\n",
       "      <td>Rua Carlos Saraiva</td>\n",
       "      <td>Linda-a-Velha</td>\n",
       "      <td>Algés</td>\n",
       "      <td>Linda-a-Velha e Cruz Quebrada-Dafundo</td>\n",
       "      <td>Oeiras</td>\n",
       "      <td>Lisboa</td>\n",
       "      <td>None</td>\n",
       "      <td>T0</td>\n",
       "      <td>489</td>\n",
       "    </tr>\n",
       "  </tbody>\n",
       "</table>\n",
       "</div>"
      ],
      "text/plain": [
       "                      title  price_euro  \\\n",
       "15356  Duplex T0 para venda    260000.0   \n",
       "\n",
       "                                           link        site date_extracted  \\\n",
       "15356  /pt/anuncio/duplex-t0-para-venda-ID1cOqD  imovirtual     2024-07-25   \n",
       "\n",
       "      offer_type_search property_type_search location_search  \\\n",
       "15356           comprar          apartamento          lisboa   \n",
       "\n",
       "      sub_location_search     location_zone_0 location_zone_1 location_zone_2  \\\n",
       "15356                None  Rua Carlos Saraiva   Linda-a-Velha           Algés   \n",
       "\n",
       "                              location_zone_3 location_zone_4 location_zone_5  \\\n",
       "15356   Linda-a-Velha e Cruz Quebrada-Dafundo          Oeiras          Lisboa   \n",
       "\n",
       "      location_zone_6 num_bedrooms  area_m2  \n",
       "15356            None           T0      489  "
      ]
     },
     "execution_count": 16,
     "metadata": {},
     "output_type": "execute_result"
    }
   ],
   "source": [
    "df[df.link == '/pt/anuncio/duplex-t0-para-venda-ID1cOqD']"
   ]
  },
  {
   "cell_type": "markdown",
   "metadata": {},
   "source": [
    "- The duplicated values are caused because in the search for `apartamento` (apartment), the results also include the `t0` property type.\n",
    "- Therefore, we can exclude the second occurrence of the records."
   ]
  },
  {
   "cell_type": "code",
   "execution_count": 17,
   "metadata": {},
   "outputs": [],
   "source": [
    "# excluding link duplicated\n",
    "df = df.drop_duplicates(subset= 'link', keep= 'first')"
   ]
  },
  {
   "cell_type": "code",
   "execution_count": 18,
   "metadata": {},
   "outputs": [],
   "source": [
    "# function to extract the last part of the link\n",
    "def extract_last_part(url):\n",
    "    return url.rsplit('-', 1)[-1]\n",
    "\n",
    "df['link_id'] = df['link'].apply(extract_last_part)"
   ]
  },
  {
   "cell_type": "markdown",
   "metadata": {},
   "source": [
    "Now, we test for duplicates"
   ]
  },
  {
   "cell_type": "code",
   "execution_count": 19,
   "metadata": {},
   "outputs": [],
   "source": [
    "assert df.shape[0] == df.link_id.nunique()"
   ]
  },
  {
   "cell_type": "markdown",
   "metadata": {},
   "source": [
    "Test to see if all the link_ids atart with `ID`"
   ]
  },
  {
   "cell_type": "code",
   "execution_count": 20,
   "metadata": {},
   "outputs": [],
   "source": [
    "assert df[~df.link_id.str.startswith('ID')].shape[0] == 0"
   ]
  },
  {
   "cell_type": "markdown",
   "metadata": {},
   "source": [
    "## Reindex the dataframe"
   ]
  },
  {
   "cell_type": "code",
   "execution_count": 21,
   "metadata": {},
   "outputs": [],
   "source": [
    "# Reindex the columns of the DataFrame\n",
    "desired_columns = [\n",
    "    'title', \n",
    "    'price_euro', \n",
    "    'area_m2',\n",
    "    'num_bedrooms',\n",
    "    'property_status',\n",
    "    'location_zone_0',\n",
    "    'location_zone_1',\n",
    "    'location_zone_2',\n",
    "    'location_zone_3', \n",
    "    'location_zone_4',\n",
    "    'location_zone_5', \n",
    "    'location_zone_6', \n",
    "    'site',\n",
    "    'link_id',\n",
    "    'link', \n",
    "    'offer_type_search', \n",
    "    'property_type_search',\n",
    "    'location_search',\n",
    "    'sub_location_search',\n",
    "    'date_extracted'\n",
    "]\n",
    "df = df.reindex(columns=desired_columns)"
   ]
  },
  {
   "cell_type": "code",
   "execution_count": 22,
   "metadata": {},
   "outputs": [
    {
     "name": "stdout",
     "output_type": "stream",
     "text": [
      "<class 'pandas.core.frame.DataFrame'>\n",
      "Index: 29957 entries, 0 to 31264\n",
      "Data columns (total 20 columns):\n",
      " #   Column                Non-Null Count  Dtype  \n",
      "---  ------                --------------  -----  \n",
      " 0   title                 29957 non-null  object \n",
      " 1   price_euro            29731 non-null  float64\n",
      " 2   area_m2               29957 non-null  int64  \n",
      " 3   num_bedrooms          29883 non-null  object \n",
      " 4   property_status       0 non-null      float64\n",
      " 5   location_zone_0       29956 non-null  object \n",
      " 6   location_zone_1       29956 non-null  object \n",
      " 7   location_zone_2       29956 non-null  object \n",
      " 8   location_zone_3       26895 non-null  object \n",
      " 9   location_zone_4       9421 non-null   object \n",
      " 10  location_zone_5       1251 non-null   object \n",
      " 11  location_zone_6       204 non-null    object \n",
      " 12  site                  29957 non-null  object \n",
      " 13  link_id               29957 non-null  object \n",
      " 14  link                  29957 non-null  object \n",
      " 15  offer_type_search     29957 non-null  object \n",
      " 16  property_type_search  29957 non-null  object \n",
      " 17  location_search       29957 non-null  object \n",
      " 18  sub_location_search   0 non-null      object \n",
      " 19  date_extracted        29957 non-null  object \n",
      "dtypes: float64(2), int64(1), object(17)\n",
      "memory usage: 4.8+ MB\n"
     ]
    }
   ],
   "source": [
    "df.info()"
   ]
  },
  {
   "cell_type": "markdown",
   "metadata": {},
   "source": [
    "## Checking transformation"
   ]
  },
  {
   "cell_type": "code",
   "execution_count": 23,
   "metadata": {},
   "outputs": [
    {
     "data": {
      "text/plain": [
       "(29957, 20)"
      ]
     },
     "execution_count": 23,
     "metadata": {},
     "output_type": "execute_result"
    }
   ],
   "source": [
    "df.shape"
   ]
  },
  {
   "cell_type": "code",
   "execution_count": 24,
   "metadata": {},
   "outputs": [
    {
     "data": {
      "text/plain": [
       "np.int64(0)"
      ]
     },
     "execution_count": 24,
     "metadata": {},
     "output_type": "execute_result"
    }
   ],
   "source": [
    "df.duplicated().sum()"
   ]
  },
  {
   "cell_type": "code",
   "execution_count": 25,
   "metadata": {},
   "outputs": [
    {
     "name": "stdout",
     "output_type": "stream",
     "text": [
      "<class 'pandas.core.frame.DataFrame'>\n",
      "Index: 29957 entries, 0 to 31264\n",
      "Data columns (total 20 columns):\n",
      " #   Column                Non-Null Count  Dtype  \n",
      "---  ------                --------------  -----  \n",
      " 0   title                 29957 non-null  object \n",
      " 1   price_euro            29731 non-null  float64\n",
      " 2   area_m2               29957 non-null  int64  \n",
      " 3   num_bedrooms          29883 non-null  object \n",
      " 4   property_status       0 non-null      float64\n",
      " 5   location_zone_0       29956 non-null  object \n",
      " 6   location_zone_1       29956 non-null  object \n",
      " 7   location_zone_2       29956 non-null  object \n",
      " 8   location_zone_3       26895 non-null  object \n",
      " 9   location_zone_4       9421 non-null   object \n",
      " 10  location_zone_5       1251 non-null   object \n",
      " 11  location_zone_6       204 non-null    object \n",
      " 12  site                  29957 non-null  object \n",
      " 13  link_id               29957 non-null  object \n",
      " 14  link                  29957 non-null  object \n",
      " 15  offer_type_search     29957 non-null  object \n",
      " 16  property_type_search  29957 non-null  object \n",
      " 17  location_search       29957 non-null  object \n",
      " 18  sub_location_search   0 non-null      object \n",
      " 19  date_extracted        29957 non-null  object \n",
      "dtypes: float64(2), int64(1), object(17)\n",
      "memory usage: 4.8+ MB\n"
     ]
    }
   ],
   "source": [
    "df.info()"
   ]
  },
  {
   "cell_type": "code",
   "execution_count": 26,
   "metadata": {},
   "outputs": [
    {
     "data": {
      "text/plain": [
       "title                     0.000000\n",
       "price_euro                0.754415\n",
       "area_m2                   0.000000\n",
       "num_bedrooms              0.247021\n",
       "property_status         100.000000\n",
       "location_zone_0           0.003338\n",
       "location_zone_1           0.003338\n",
       "location_zone_2           0.003338\n",
       "location_zone_3          10.221317\n",
       "location_zone_4          68.551591\n",
       "location_zone_5          95.824014\n",
       "location_zone_6          99.319024\n",
       "site                      0.000000\n",
       "link_id                   0.000000\n",
       "link                      0.000000\n",
       "offer_type_search         0.000000\n",
       "property_type_search      0.000000\n",
       "location_search           0.000000\n",
       "sub_location_search     100.000000\n",
       "date_extracted            0.000000\n",
       "dtype: float64"
      ]
     },
     "execution_count": 26,
     "metadata": {},
     "output_type": "execute_result"
    }
   ],
   "source": [
    "(df.isna().sum() / df.shape[0]) * 100"
   ]
  },
  {
   "cell_type": "code",
   "execution_count": 27,
   "metadata": {},
   "outputs": [
    {
     "data": {
      "text/html": [
       "<div>\n",
       "<style scoped>\n",
       "    .dataframe tbody tr th:only-of-type {\n",
       "        vertical-align: middle;\n",
       "    }\n",
       "\n",
       "    .dataframe tbody tr th {\n",
       "        vertical-align: top;\n",
       "    }\n",
       "\n",
       "    .dataframe thead th {\n",
       "        text-align: right;\n",
       "    }\n",
       "</style>\n",
       "<table border=\"1\" class=\"dataframe\">\n",
       "  <thead>\n",
       "    <tr style=\"text-align: right;\">\n",
       "      <th></th>\n",
       "      <th>title</th>\n",
       "      <th>price_euro</th>\n",
       "      <th>area_m2</th>\n",
       "      <th>num_bedrooms</th>\n",
       "      <th>property_status</th>\n",
       "      <th>location_zone_0</th>\n",
       "      <th>location_zone_1</th>\n",
       "      <th>location_zone_2</th>\n",
       "      <th>location_zone_3</th>\n",
       "      <th>location_zone_4</th>\n",
       "      <th>location_zone_5</th>\n",
       "      <th>location_zone_6</th>\n",
       "      <th>site</th>\n",
       "      <th>link_id</th>\n",
       "      <th>link</th>\n",
       "      <th>offer_type_search</th>\n",
       "      <th>property_type_search</th>\n",
       "      <th>location_search</th>\n",
       "      <th>sub_location_search</th>\n",
       "      <th>date_extracted</th>\n",
       "    </tr>\n",
       "  </thead>\n",
       "  <tbody>\n",
       "    <tr>\n",
       "      <th>10558</th>\n",
       "      <td>Apartamento T3 para venda</td>\n",
       "      <td>240000.0</td>\n",
       "      <td>143</td>\n",
       "      <td>T3</td>\n",
       "      <td>NaN</td>\n",
       "      <td>A dos Cunhados e Maceira</td>\n",
       "      <td>Torres Vedras</td>\n",
       "      <td>Lisboa</td>\n",
       "      <td>None</td>\n",
       "      <td>None</td>\n",
       "      <td>None</td>\n",
       "      <td>None</td>\n",
       "      <td>imovirtual</td>\n",
       "      <td>ID1eqV2</td>\n",
       "      <td>/pt/anuncio/apartamento-t3-para-venda-ID1eqV2</td>\n",
       "      <td>comprar</td>\n",
       "      <td>apartamento</td>\n",
       "      <td>lisboa</td>\n",
       "      <td>None</td>\n",
       "      <td>2024-07-25</td>\n",
       "    </tr>\n",
       "    <tr>\n",
       "      <th>24530</th>\n",
       "      <td>Moradia em Sintra, São Pedro Penaferrim</td>\n",
       "      <td>450000.0</td>\n",
       "      <td>175</td>\n",
       "      <td>T4</td>\n",
       "      <td>NaN</td>\n",
       "      <td>Vila de Sintra - Monserrate</td>\n",
       "      <td>S. Maria</td>\n",
       "      <td>S. Miguel</td>\n",
       "      <td>S. Martinho e S. Pedro de Penaferrim</td>\n",
       "      <td>Sintra</td>\n",
       "      <td>Lisboa</td>\n",
       "      <td>None</td>\n",
       "      <td>imovirtual</td>\n",
       "      <td>ID1cdVi</td>\n",
       "      <td>/pt/anuncio/moradia-em-sintra-sao-pedro-penafe...</td>\n",
       "      <td>comprar</td>\n",
       "      <td>moradia</td>\n",
       "      <td>lisboa</td>\n",
       "      <td>None</td>\n",
       "      <td>2024-07-25</td>\n",
       "    </tr>\n",
       "    <tr>\n",
       "      <th>19440</th>\n",
       "      <td>Excelente T2 com grande Varanda e boa vista, j...</td>\n",
       "      <td>1988800.0</td>\n",
       "      <td>11645</td>\n",
       "      <td>T2</td>\n",
       "      <td>NaN</td>\n",
       "      <td>Campo de Santana - Santa Marta</td>\n",
       "      <td>Santo António</td>\n",
       "      <td>Lisboa</td>\n",
       "      <td>Lisboa</td>\n",
       "      <td>None</td>\n",
       "      <td>None</td>\n",
       "      <td>None</td>\n",
       "      <td>imovirtual</td>\n",
       "      <td>ID176vn</td>\n",
       "      <td>/pt/anuncio/excelente-t2-com-grande-varanda-e-...</td>\n",
       "      <td>comprar</td>\n",
       "      <td>apartamento</td>\n",
       "      <td>lisboa</td>\n",
       "      <td>None</td>\n",
       "      <td>2024-07-25</td>\n",
       "    </tr>\n",
       "    <tr>\n",
       "      <th>15021</th>\n",
       "      <td>T1 | APARTAMENTO | NOVA CONSTRUÇÃO | ...</td>\n",
       "      <td>410000.0</td>\n",
       "      <td>5575</td>\n",
       "      <td>T1</td>\n",
       "      <td>NaN</td>\n",
       "      <td>Prazeres</td>\n",
       "      <td>Estrela</td>\n",
       "      <td>Lisboa</td>\n",
       "      <td>Lisboa</td>\n",
       "      <td>None</td>\n",
       "      <td>None</td>\n",
       "      <td>None</td>\n",
       "      <td>imovirtual</td>\n",
       "      <td>ID1d4PZ</td>\n",
       "      <td>/pt/anuncio/t1-apartamento-nova-construcao-ID1...</td>\n",
       "      <td>comprar</td>\n",
       "      <td>apartamento</td>\n",
       "      <td>lisboa</td>\n",
       "      <td>None</td>\n",
       "      <td>2024-07-25</td>\n",
       "    </tr>\n",
       "    <tr>\n",
       "      <th>21698</th>\n",
       "      <td>Moradia V2 em São Pedro da Cadeira</td>\n",
       "      <td>195000.0</td>\n",
       "      <td>83</td>\n",
       "      <td>T2</td>\n",
       "      <td>NaN</td>\n",
       "      <td>São Pedro da Cadeira</td>\n",
       "      <td>Torres Vedras</td>\n",
       "      <td>Lisboa</td>\n",
       "      <td>None</td>\n",
       "      <td>None</td>\n",
       "      <td>None</td>\n",
       "      <td>None</td>\n",
       "      <td>imovirtual</td>\n",
       "      <td>ID1f5XI</td>\n",
       "      <td>/pt/anuncio/moradia-v2-em-sao-pedro-da-cadeira...</td>\n",
       "      <td>comprar</td>\n",
       "      <td>moradia</td>\n",
       "      <td>lisboa</td>\n",
       "      <td>None</td>\n",
       "      <td>2024-07-25</td>\n",
       "    </tr>\n",
       "    <tr>\n",
       "      <th>13009</th>\n",
       "      <td>Apartamento, 480 m², Cascais e Estoril</td>\n",
       "      <td>4990000.0</td>\n",
       "      <td>480</td>\n",
       "      <td>T5</td>\n",
       "      <td>NaN</td>\n",
       "      <td>Quinta da Marinha</td>\n",
       "      <td>Cascais e Estoril</td>\n",
       "      <td>Cascais</td>\n",
       "      <td>Lisboa</td>\n",
       "      <td>None</td>\n",
       "      <td>None</td>\n",
       "      <td>None</td>\n",
       "      <td>imovirtual</td>\n",
       "      <td>ID1dHbs</td>\n",
       "      <td>/pt/anuncio/apartamento-480-m-cascais-e-estori...</td>\n",
       "      <td>comprar</td>\n",
       "      <td>apartamento</td>\n",
       "      <td>lisboa</td>\n",
       "      <td>None</td>\n",
       "      <td>2024-07-25</td>\n",
       "    </tr>\n",
       "    <tr>\n",
       "      <th>17222</th>\n",
       "      <td>Prédio  para venda</td>\n",
       "      <td>1150000.0</td>\n",
       "      <td>12342</td>\n",
       "      <td>T9+</td>\n",
       "      <td>NaN</td>\n",
       "      <td>Restelo</td>\n",
       "      <td>Belém</td>\n",
       "      <td>Lisboa</td>\n",
       "      <td>Lisboa</td>\n",
       "      <td>None</td>\n",
       "      <td>None</td>\n",
       "      <td>None</td>\n",
       "      <td>imovirtual</td>\n",
       "      <td>ID1bEZo</td>\n",
       "      <td>/pt/anuncio/predio-para-venda-ID1bEZo</td>\n",
       "      <td>comprar</td>\n",
       "      <td>apartamento</td>\n",
       "      <td>lisboa</td>\n",
       "      <td>None</td>\n",
       "      <td>2024-07-25</td>\n",
       "    </tr>\n",
       "    <tr>\n",
       "      <th>8289</th>\n",
       "      <td>T2 em Cascais</td>\n",
       "      <td>250000.0</td>\n",
       "      <td>77</td>\n",
       "      <td>T2</td>\n",
       "      <td>NaN</td>\n",
       "      <td>Torre</td>\n",
       "      <td>Cascais e Estoril</td>\n",
       "      <td>Cascais</td>\n",
       "      <td>Lisboa</td>\n",
       "      <td>None</td>\n",
       "      <td>None</td>\n",
       "      <td>None</td>\n",
       "      <td>imovirtual</td>\n",
       "      <td>ID1eOdO</td>\n",
       "      <td>/pt/anuncio/t2-em-cascais-ID1eOdO</td>\n",
       "      <td>comprar</td>\n",
       "      <td>apartamento</td>\n",
       "      <td>lisboa</td>\n",
       "      <td>None</td>\n",
       "      <td>2024-07-25</td>\n",
       "    </tr>\n",
       "    <tr>\n",
       "      <th>28709</th>\n",
       "      <td>T3 em Príncipe Real - Lisboa</td>\n",
       "      <td>2000.0</td>\n",
       "      <td>83</td>\n",
       "      <td>T3</td>\n",
       "      <td>NaN</td>\n",
       "      <td>Alto dos Moinhos</td>\n",
       "      <td>São Domingos de Benfica</td>\n",
       "      <td>Lisboa</td>\n",
       "      <td>Lisboa</td>\n",
       "      <td>None</td>\n",
       "      <td>None</td>\n",
       "      <td>None</td>\n",
       "      <td>imovirtual</td>\n",
       "      <td>ID1ferF</td>\n",
       "      <td>/pt/anuncio/t3-em-principe-real-lisboa-ID1ferF</td>\n",
       "      <td>arrendar</td>\n",
       "      <td>apartamento</td>\n",
       "      <td>lisboa</td>\n",
       "      <td>None</td>\n",
       "      <td>2024-07-25</td>\n",
       "    </tr>\n",
       "    <tr>\n",
       "      <th>23371</th>\n",
       "      <td>Moradia em Construção - Empreendimento Villas ...</td>\n",
       "      <td>525000.0</td>\n",
       "      <td>157</td>\n",
       "      <td>T3</td>\n",
       "      <td>NaN</td>\n",
       "      <td>Apelação</td>\n",
       "      <td>Camarate</td>\n",
       "      <td>Unhos e Apelação</td>\n",
       "      <td>Loures</td>\n",
       "      <td>Lisboa</td>\n",
       "      <td>None</td>\n",
       "      <td>None</td>\n",
       "      <td>imovirtual</td>\n",
       "      <td>ID1eOdN</td>\n",
       "      <td>/pt/anuncio/moradia-em-construcao-empreendimen...</td>\n",
       "      <td>comprar</td>\n",
       "      <td>moradia</td>\n",
       "      <td>lisboa</td>\n",
       "      <td>None</td>\n",
       "      <td>2024-07-25</td>\n",
       "    </tr>\n",
       "  </tbody>\n",
       "</table>\n",
       "</div>"
      ],
      "text/plain": [
       "                                                   title  price_euro  area_m2  \\\n",
       "10558                          Apartamento T3 para venda    240000.0      143   \n",
       "24530            Moradia em Sintra, São Pedro Penaferrim    450000.0      175   \n",
       "19440  Excelente T2 com grande Varanda e boa vista, j...   1988800.0    11645   \n",
       "15021           T1 | APARTAMENTO | NOVA CONSTRUÇÃO | ...    410000.0     5575   \n",
       "21698                 Moradia V2 em São Pedro da Cadeira    195000.0       83   \n",
       "13009             Apartamento, 480 m², Cascais e Estoril   4990000.0      480   \n",
       "17222                                 Prédio  para venda   1150000.0    12342   \n",
       "8289                                       T2 em Cascais    250000.0       77   \n",
       "28709                       T3 em Príncipe Real - Lisboa      2000.0       83   \n",
       "23371  Moradia em Construção - Empreendimento Villas ...    525000.0      157   \n",
       "\n",
       "      num_bedrooms  property_status                 location_zone_0  \\\n",
       "10558           T3              NaN        A dos Cunhados e Maceira   \n",
       "24530           T4              NaN     Vila de Sintra - Monserrate   \n",
       "19440           T2              NaN  Campo de Santana - Santa Marta   \n",
       "15021           T1              NaN                        Prazeres   \n",
       "21698           T2              NaN            São Pedro da Cadeira   \n",
       "13009           T5              NaN               Quinta da Marinha   \n",
       "17222          T9+              NaN                         Restelo   \n",
       "8289            T2              NaN                           Torre   \n",
       "28709           T3              NaN                Alto dos Moinhos   \n",
       "23371           T3              NaN                        Apelação   \n",
       "\n",
       "                location_zone_1    location_zone_2  \\\n",
       "10558             Torres Vedras             Lisboa   \n",
       "24530                  S. Maria          S. Miguel   \n",
       "19440             Santo António             Lisboa   \n",
       "15021                   Estrela             Lisboa   \n",
       "21698             Torres Vedras             Lisboa   \n",
       "13009         Cascais e Estoril            Cascais   \n",
       "17222                     Belém             Lisboa   \n",
       "8289          Cascais e Estoril            Cascais   \n",
       "28709   São Domingos de Benfica             Lisboa   \n",
       "23371                  Camarate   Unhos e Apelação   \n",
       "\n",
       "                             location_zone_3 location_zone_4 location_zone_5  \\\n",
       "10558                                   None            None            None   \n",
       "24530   S. Martinho e S. Pedro de Penaferrim          Sintra          Lisboa   \n",
       "19440                                 Lisboa            None            None   \n",
       "15021                                 Lisboa            None            None   \n",
       "21698                                   None            None            None   \n",
       "13009                                 Lisboa            None            None   \n",
       "17222                                 Lisboa            None            None   \n",
       "8289                                  Lisboa            None            None   \n",
       "28709                                 Lisboa            None            None   \n",
       "23371                                 Loures          Lisboa            None   \n",
       "\n",
       "      location_zone_6        site  link_id  \\\n",
       "10558            None  imovirtual  ID1eqV2   \n",
       "24530            None  imovirtual  ID1cdVi   \n",
       "19440            None  imovirtual  ID176vn   \n",
       "15021            None  imovirtual  ID1d4PZ   \n",
       "21698            None  imovirtual  ID1f5XI   \n",
       "13009            None  imovirtual  ID1dHbs   \n",
       "17222            None  imovirtual  ID1bEZo   \n",
       "8289             None  imovirtual  ID1eOdO   \n",
       "28709            None  imovirtual  ID1ferF   \n",
       "23371            None  imovirtual  ID1eOdN   \n",
       "\n",
       "                                                    link offer_type_search  \\\n",
       "10558      /pt/anuncio/apartamento-t3-para-venda-ID1eqV2           comprar   \n",
       "24530  /pt/anuncio/moradia-em-sintra-sao-pedro-penafe...           comprar   \n",
       "19440  /pt/anuncio/excelente-t2-com-grande-varanda-e-...           comprar   \n",
       "15021  /pt/anuncio/t1-apartamento-nova-construcao-ID1...           comprar   \n",
       "21698  /pt/anuncio/moradia-v2-em-sao-pedro-da-cadeira...           comprar   \n",
       "13009  /pt/anuncio/apartamento-480-m-cascais-e-estori...           comprar   \n",
       "17222              /pt/anuncio/predio-para-venda-ID1bEZo           comprar   \n",
       "8289                   /pt/anuncio/t2-em-cascais-ID1eOdO           comprar   \n",
       "28709     /pt/anuncio/t3-em-principe-real-lisboa-ID1ferF          arrendar   \n",
       "23371  /pt/anuncio/moradia-em-construcao-empreendimen...           comprar   \n",
       "\n",
       "      property_type_search location_search sub_location_search date_extracted  \n",
       "10558          apartamento          lisboa                None     2024-07-25  \n",
       "24530              moradia          lisboa                None     2024-07-25  \n",
       "19440          apartamento          lisboa                None     2024-07-25  \n",
       "15021          apartamento          lisboa                None     2024-07-25  \n",
       "21698              moradia          lisboa                None     2024-07-25  \n",
       "13009          apartamento          lisboa                None     2024-07-25  \n",
       "17222          apartamento          lisboa                None     2024-07-25  \n",
       "8289           apartamento          lisboa                None     2024-07-25  \n",
       "28709          apartamento          lisboa                None     2024-07-25  \n",
       "23371              moradia          lisboa                None     2024-07-25  "
      ]
     },
     "execution_count": 27,
     "metadata": {},
     "output_type": "execute_result"
    }
   ],
   "source": [
    "df.sample(10)"
   ]
  }
 ],
 "metadata": {
  "kernelspec": {
   "display_name": ".venv",
   "language": "python",
   "name": "python3"
  },
  "language_info": {
   "codemirror_mode": {
    "name": "ipython",
    "version": 3
   },
   "file_extension": ".py",
   "mimetype": "text/x-python",
   "name": "python",
   "nbconvert_exporter": "python",
   "pygments_lexer": "ipython3",
   "version": "3.12.3"
  }
 },
 "nbformat": 4,
 "nbformat_minor": 2
}
